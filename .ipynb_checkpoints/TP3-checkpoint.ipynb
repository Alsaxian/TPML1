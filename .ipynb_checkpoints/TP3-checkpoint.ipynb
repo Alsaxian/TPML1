{
 "cells": [
  {
   "cell_type": "code",
   "execution_count": 3,
   "metadata": {},
   "outputs": [
    {
     "name": "stdout",
     "output_type": "stream",
     "text": [
      "(5574, 2)\n",
      "Go until jurong point, crazy.. Available only in bugis n great world la e buffet... Cine there got amore wat...\n"
     ]
    },
    {
     "data": {
      "text/html": [
       "<div>\n",
       "<style>\n",
       "    .dataframe thead tr:only-child th {\n",
       "        text-align: right;\n",
       "    }\n",
       "\n",
       "    .dataframe thead th {\n",
       "        text-align: left;\n",
       "    }\n",
       "\n",
       "    .dataframe tbody tr th {\n",
       "        vertical-align: top;\n",
       "    }\n",
       "</style>\n",
       "<table border=\"1\" class=\"dataframe\">\n",
       "  <thead>\n",
       "    <tr style=\"text-align: right;\">\n",
       "      <th></th>\n",
       "      <th>class</th>\n",
       "      <th>text</th>\n",
       "    </tr>\n",
       "  </thead>\n",
       "  <tbody>\n",
       "    <tr>\n",
       "      <th>0</th>\n",
       "      <td>ham</td>\n",
       "      <td>Go until jurong point, crazy.. Available only ...</td>\n",
       "    </tr>\n",
       "    <tr>\n",
       "      <th>1</th>\n",
       "      <td>ham</td>\n",
       "      <td>Ok lar... Joking wif u oni...</td>\n",
       "    </tr>\n",
       "    <tr>\n",
       "      <th>2</th>\n",
       "      <td>spam</td>\n",
       "      <td>Free entry in 2 a wkly comp to win FA Cup fina...</td>\n",
       "    </tr>\n",
       "    <tr>\n",
       "      <th>3</th>\n",
       "      <td>ham</td>\n",
       "      <td>U dun say so early hor... U c already then say...</td>\n",
       "    </tr>\n",
       "    <tr>\n",
       "      <th>4</th>\n",
       "      <td>ham</td>\n",
       "      <td>Nah I don't think he goes to usf, he lives aro...</td>\n",
       "    </tr>\n",
       "  </tbody>\n",
       "</table>\n",
       "</div>"
      ],
      "text/plain": [
       "  class                                               text\n",
       "0   ham  Go until jurong point, crazy.. Available only ...\n",
       "1   ham                      Ok lar... Joking wif u oni...\n",
       "2  spam  Free entry in 2 a wkly comp to win FA Cup fina...\n",
       "3   ham  U dun say so early hor... U c already then say...\n",
       "4   ham  Nah I don't think he goes to usf, he lives aro..."
      ]
     },
     "execution_count": 3,
     "metadata": {},
     "output_type": "execute_result"
    }
   ],
   "source": [
    "import pandas as pd \n",
    "train = pd.read_csv(\"SMSSpamCollection.data\", header=None, delimiter=\"\\t\", quoting=3, names = [\"class\", \"text\"])\n",
    "print(train.shape)\n",
    "\n",
    "print(train[\"text\"][0])\n",
    "train.head()"
   ]
  },
  {
   "cell_type": "markdown",
   "metadata": {},
   "source": [
    "On aura besoin des expressions régulières. Importons maintenant la librairie `re` et essayons avec un exemple qui sert à remplacer les n'import quoi pas un espace."
   ]
  },
  {
   "cell_type": "code",
   "execution_count": 4,
   "metadata": {},
   "outputs": [
    {
     "name": "stdout",
     "output_type": "stream",
     "text": [
      "Go until jurong point  crazy   Available only in bugis n great world la e buffet    Cine there got amore wat   \n",
      "['go', 'until', 'jurong', 'point', 'crazy', 'available', 'only', 'in', 'bugis', 'n', 'great', 'world', 'la', 'e', 'buffet', 'cine', 'there', 'got', 'amore', 'wat']\n"
     ]
    }
   ],
   "source": [
    "import re\n",
    "letters_only = re.sub(\"[^a-zA-Z]\", \" \", train.iloc[0, 1])\n",
    "print(letters_only)\n",
    "\n",
    "lower_case = letters_only.lower()\n",
    "words = lower_case.split()\n",
    "print(words)"
   ]
  },
  {
   "cell_type": "code",
   "execution_count": 6,
   "metadata": {},
   "outputs": [
    {
     "name": "stdout",
     "output_type": "stream",
     "text": [
      "NLTK Downloader\n",
      "---------------------------------------------------------------------------\n",
      "    d) Download   l) List    u) Update   c) Config   h) Help   q) Quit\n",
      "---------------------------------------------------------------------------\n",
      "Downloader> down\n",
      "Command 'down' unrecognized\n",
      "\n",
      "---------------------------------------------------------------------------\n",
      "    d) Download   l) List    u) Update   c) Config   h) Help   q) Quit\n",
      "---------------------------------------------------------------------------\n",
      "Downloader> 1\n",
      "Command '1' unrecognized\n",
      "\n",
      "---------------------------------------------------------------------------\n",
      "    d) Download   l) List    u) Update   c) Config   h) Help   q) Quit\n",
      "---------------------------------------------------------------------------\n",
      "Downloader> 1)\n",
      "Command '1)' unrecognized\n",
      "\n",
      "---------------------------------------------------------------------------\n",
      "    d) Download   l) List    u) Update   c) Config   h) Help   q) Quit\n",
      "---------------------------------------------------------------------------\n",
      "Downloader> d\n",
      "\n",
      "Download which package (l=list; x=cancel)?\n",
      "  Identifier> l\n",
      "Packages:\n",
      "  [ ] abc................. Australian Broadcasting Commission 2006\n",
      "  [ ] alpino.............. Alpino Dutch Treebank\n",
      "  [ ] averaged_perceptron_tagger Averaged Perceptron Tagger\n",
      "  [ ] averaged_perceptron_tagger_ru Averaged Perceptron Tagger (Russian)\n",
      "  [ ] basque_grammars..... Grammars for Basque\n",
      "  [ ] biocreative_ppi..... BioCreAtIvE (Critical Assessment of Information\n",
      "                           Extraction Systems in Biology)\n",
      "  [ ] bllip_wsj_no_aux.... BLLIP Parser: WSJ Model\n",
      "  [ ] book_grammars....... Grammars from NLTK Book\n",
      "  [ ] brown............... Brown Corpus\n",
      "  [ ] brown_tei........... Brown Corpus (TEI XML Version)\n",
      "  [ ] cess_cat............ CESS-CAT Treebank\n",
      "  [ ] cess_esp............ CESS-ESP Treebank\n",
      "  [ ] chat80.............. Chat-80 Data Files\n",
      "  [ ] city_database....... City Database\n",
      "  [ ] cmudict............. The Carnegie Mellon Pronouncing Dictionary (0.6)\n",
      "  [ ] comparative_sentences Comparative Sentence Dataset\n",
      "  [ ] comtrans............ ComTrans Corpus Sample\n",
      "  [ ] conll2000........... CONLL 2000 Chunking Corpus\n",
      "  [ ] conll2002........... CONLL 2002 Named Entity Recognition Corpus\n",
      "Hit Enter to continue: stopwords\n",
      "  [ ] conll2007........... Dependency Treebanks from CoNLL 2007 (Catalan\n",
      "                           and Basque Subset)\n",
      "  [ ] crubadan............ Crubadan Corpus\n",
      "  [ ] dependency_treebank. Dependency Parsed Treebank\n",
      "  [ ] dolch............... Dolch Word List\n",
      "  [ ] europarl_raw........ Sample European Parliament Proceedings Parallel\n",
      "                           Corpus\n",
      "  [ ] floresta............ Portuguese Treebank\n",
      "  [ ] framenet_v15........ FrameNet 1.5\n",
      "  [ ] framenet_v17........ FrameNet 1.7\n",
      "  [ ] gazetteers.......... Gazeteer Lists\n",
      "  [ ] genesis............. Genesis Corpus\n",
      "  [ ] gutenberg........... Project Gutenberg Selections\n",
      "  [ ] ieer................ NIST IE-ER DATA SAMPLE\n",
      "  [ ] inaugural........... C-Span Inaugural Address Corpus\n",
      "  [ ] indian.............. Indian Language POS-Tagged Corpus\n",
      "  [ ] jeita............... JEITA Public Morphologically Tagged Corpus (in\n",
      "                           ChaSen format)\n",
      "  [ ] kimmo............... PC-KIMMO Data Files\n",
      "  [ ] knbc................ KNB Corpus (Annotated blog corpus)\n",
      "  [ ] large_grammars...... Large context-free and feature-based grammars\n",
      "                           for parser comparison\n",
      "Hit Enter to continue: \n",
      "  [ ] lin_thesaurus....... Lin's Dependency Thesaurus\n",
      "  [ ] mac_morpho.......... MAC-MORPHO: Brazilian Portuguese news text with\n",
      "                           part-of-speech tags\n",
      "  [ ] machado............. Machado de Assis -- Obra Completa\n",
      "  [ ] masc_tagged......... MASC Tagged Corpus\n",
      "  [ ] maxent_ne_chunker... ACE Named Entity Chunker (Maximum entropy)\n",
      "  [ ] maxent_treebank_pos_tagger Treebank Part of Speech Tagger (Maximum entropy)\n",
      "  [ ] moses_sample........ Moses Sample Models\n",
      "  [ ] movie_reviews....... Sentiment Polarity Dataset Version 2.0\n",
      "  [ ] mte_teip5........... MULTEXT-East 1984 annotated corpus 4.0\n",
      "  [ ] mwa_ppdb............ The monolingual word aligner (Sultan et al.\n",
      "                           2015) subset of the Paraphrase Database.\n",
      "  [ ] names............... Names Corpus, Version 1.3 (1994-03-29)\n",
      "  [ ] nombank.1.0......... NomBank Corpus 1.0\n",
      "  [ ] nonbreaking_prefixes Non-Breaking Prefixes (Moses Decoder)\n",
      "  [ ] nps_chat............ NPS Chat\n",
      "  [ ] omw................. Open Multilingual Wordnet\n",
      "  [ ] opinion_lexicon..... Opinion Lexicon\n",
      "  [ ] panlex_swadesh...... PanLex Swadesh Corpora\n",
      "  [ ] paradigms........... Paradigm Corpus\n",
      "  [ ] pe08................ Cross-Framework and Cross-Domain Parser\n",
      "                           Evaluation Shared Task\n",
      "Hit Enter to continue: \n",
      "  [ ] perluniprops........ perluniprops: Index of Unicode Version 7.0.0\n",
      "                           character properties in Perl\n",
      "  [ ] pil................. The Patient Information Leaflet (PIL) Corpus\n",
      "  [ ] pl196x.............. Polish language of the XX century sixties\n",
      "  [ ] porter_test......... Porter Stemmer Test Files\n",
      "  [ ] ppattach............ Prepositional Phrase Attachment Corpus\n",
      "  [ ] problem_reports..... Problem Report Corpus\n",
      "  [ ] product_reviews_1... Product Reviews (5 Products)\n",
      "  [ ] product_reviews_2... Product Reviews (9 Products)\n",
      "  [ ] propbank............ Proposition Bank Corpus 1.0\n",
      "  [ ] pros_cons........... Pros and Cons\n",
      "  [ ] ptb................. Penn Treebank\n",
      "  [ ] punkt............... Punkt Tokenizer Models\n",
      "  [ ] qc.................. Experimental Data for Question Classification\n",
      "  [ ] reuters............. The Reuters-21578 benchmark corpus, ApteMod\n",
      "                           version\n",
      "  [ ] rslp................ RSLP Stemmer (Removedor de Sufixos da Lingua\n",
      "                           Portuguesa)\n",
      "  [ ] rte................. PASCAL RTE Challenges 1, 2, and 3\n",
      "  [ ] sample_grammars..... Sample Grammars\n",
      "  [ ] semcor.............. SemCor 3.0\n",
      "Hit Enter to continue: \n",
      "  [ ] senseval............ SENSEVAL 2 Corpus: Sense Tagged Text\n",
      "  [ ] sentence_polarity... Sentence Polarity Dataset v1.0\n",
      "  [ ] sentiwordnet........ SentiWordNet\n",
      "  [ ] shakespeare......... Shakespeare XML Corpus Sample\n",
      "  [ ] sinica_treebank..... Sinica Treebank Corpus Sample\n",
      "  [ ] smultron............ SMULTRON Corpus Sample\n",
      "  [ ] snowball_data....... Snowball Data\n",
      "  [ ] spanish_grammars.... Grammars for Spanish\n",
      "  [ ] state_union......... C-Span State of the Union Address Corpus\n",
      "  [ ] stopwords........... Stopwords Corpus\n",
      "  [ ] subjectivity........ Subjectivity Dataset v1.0\n",
      "  [ ] swadesh............. Swadesh Wordlists\n",
      "  [ ] switchboard......... Switchboard Corpus Sample\n",
      "  [ ] tagsets............. Help on Tagsets\n",
      "  [ ] timit............... TIMIT Corpus Sample\n",
      "  [ ] toolbox............. Toolbox Sample Files\n",
      "  [ ] treebank............ Penn Treebank Sample\n",
      "  [ ] twitter_samples..... Twitter Samples\n",
      "  [ ] udhr2............... Universal Declaration of Human Rights Corpus\n",
      "                           (Unicode Version)\n",
      "  [ ] udhr................ Universal Declaration of Human Rights Corpus\n",
      "Hit Enter to continue: \n",
      "  [ ] unicode_samples..... Unicode Samples\n",
      "  [ ] universal_tagset.... Mappings to the Universal Part-of-Speech Tagset\n",
      "  [ ] universal_treebanks_v20 Universal Treebanks Version 2.0\n",
      "  [ ] vader_lexicon....... VADER Sentiment Lexicon\n",
      "  [ ] verbnet............. VerbNet Lexicon, Version 2.1\n",
      "  [ ] webtext............. Web Text Corpus\n",
      "  [ ] wmt15_eval.......... Evaluation data from WMT15\n",
      "  [ ] word2vec_sample..... Word2Vec Sample\n",
      "  [ ] wordnet............. WordNet\n",
      "  [ ] wordnet_ic.......... WordNet-InfoContent\n",
      "  [ ] words............... Word Lists\n",
      "  [ ] ycoe................ York-Toronto-Helsinki Parsed Corpus of Old\n",
      "                           English Prose\n",
      "\n",
      "Collections:\n",
      "  [ ] all-corpora......... All the corpora\n",
      "  [ ] all-nltk............ All packages available on nltk_data gh-pages\n",
      "                           branch\n",
      "  [ ] all................. All packages\n",
      "  [ ] book................ Everything used in the NLTK Book\n",
      "  [ ] popular............. Popular packages\n",
      "  [ ] tests............... Packages for running tests\n",
      "Hit Enter to continue: \n",
      "  [ ] third-party......... Third-party data packages\n",
      "\n",
      "([*] marks installed packages)\n",
      "\n",
      "Download which package (l=list; x=cancel)?\n"
     ]
    },
    {
     "name": "stdout",
     "output_type": "stream",
     "text": [
      "  Identifier> stopwords\n",
      "    Downloading package stopwords to\n",
      "        C:\\Users\\ellie\\AppData\\Roaming\\nltk_data...\n",
      "      Unzipping corpora\\stopwords.zip.\n",
      "\n",
      "---------------------------------------------------------------------------\n",
      "    d) Download   l) List    u) Update   c) Config   h) Help   q) Quit\n",
      "---------------------------------------------------------------------------\n",
      "Downloader> q\n"
     ]
    }
   ],
   "source": [
    "## Faut pas exécuter cette cellule sur un PC de 4 Go de RAM !!!\n",
    "import nltk \n",
    "nltk.download_shell() # Chargement lent. Faut plutôt laisser ces lignes tout seule et ne pas recharger sauf si nécessaire."
   ]
  },
  {
   "cell_type": "markdown",
   "metadata": {},
   "source": [
    "Les \"mots d'arrêt\" (stopwords) sont ceux qui n'ont pas vraiment de sens et ne contribuent pas à la classification. Exemple : le, un, ce...\n",
    "Nous allons d'abord traiter ces mots."
   ]
  },
  {
   "cell_type": "code",
   "execution_count": 9,
   "metadata": {},
   "outputs": [
    {
     "name": "stdout",
     "output_type": "stream",
     "text": [
      "['i', 'me', 'my', 'myself', 'we', 'our', 'ours', 'ourselves', 'you', \"you're\", \"you've\", \"you'll\", \"you'd\", 'your', 'yours', 'yourself', 'yourselves', 'he', 'him', 'his', 'himself', 'she', \"she's\", 'her', 'hers', 'herself', 'it', \"it's\", 'its', 'itself', 'they', 'them', 'their', 'theirs', 'themselves', 'what', 'which', 'who', 'whom', 'this', 'that', \"that'll\", 'these', 'those', 'am', 'is', 'are', 'was', 'were', 'be', 'been', 'being', 'have', 'has', 'had', 'having', 'do', 'does', 'did', 'doing', 'a', 'an', 'the', 'and', 'but', 'if', 'or', 'because', 'as', 'until', 'while', 'of', 'at', 'by', 'for', 'with', 'about', 'against', 'between', 'into', 'through', 'during', 'before', 'after', 'above', 'below', 'to', 'from', 'up', 'down', 'in', 'out', 'on', 'off', 'over', 'under', 'again', 'further', 'then', 'once', 'here', 'there', 'when', 'where', 'why', 'how', 'all', 'any', 'both', 'each', 'few', 'more', 'most', 'other', 'some', 'such', 'no', 'nor', 'not', 'only', 'own', 'same', 'so', 'than', 'too', 'very', 's', 't', 'can', 'will', 'just', 'don', \"don't\", 'should', \"should've\", 'now', 'd', 'll', 'm', 'o', 're', 've', 'y', 'ain', 'aren', \"aren't\", 'couldn', \"couldn't\", 'didn', \"didn't\", 'doesn', \"doesn't\", 'hadn', \"hadn't\", 'hasn', \"hasn't\", 'haven', \"haven't\", 'isn', \"isn't\", 'ma', 'mightn', \"mightn't\", 'mustn', \"mustn't\", 'needn', \"needn't\", 'shan', \"shan't\", 'shouldn', \"shouldn't\", 'wasn', \"wasn't\", 'weren', \"weren't\", 'won', \"won't\", 'wouldn', \"wouldn't\"]\n",
      "['go', 'jurong', 'point', 'crazy', 'available', 'bugis', 'n', 'great', 'world', 'la', 'e', 'buffet', 'cine', 'got', 'amore', 'wat']\n"
     ]
    }
   ],
   "source": [
    "from nltk.corpus import stopwords\n",
    "print(stopwords.words(\"English\"))\n",
    "\n",
    "words = [w for w in words if not w in stopwords.words(\"english\")]\n",
    "print(words)"
   ]
  },
  {
   "cell_type": "markdown",
   "metadata": {},
   "source": [
    "Maintenant, automiser tout ce qui est avant."
   ]
  },
  {
   "cell_type": "code",
   "execution_count": 10,
   "metadata": {
    "collapsed": true
   },
   "outputs": [],
   "source": [
    "def sms_to_words(raw):\n",
    "    letters_only = re.sub(\"[^a-zA-Z]\", \" \", raw)\n",
    "    words = letters_only.lower().split()\n",
    "    # In Python, searching a set is much faster than searching a list, so convert the stop words to a set.\n",
    "    stops = set(stopwords.words(\"english\"))\n",
    "    # Enveler les \"mots d'arrêt\"\n",
    "    meaningful_words = [w for w in words if not w in stops]\n",
    "    # Join the words back into one string separated by spaces and return it.\n",
    "    return( \" \".join( meaningful_words))\n",
    "    # return(\" \".join(words))"
   ]
  },
  {
   "cell_type": "code",
   "execution_count": 11,
   "metadata": {},
   "outputs": [
    {
     "name": "stdout",
     "output_type": "stream",
     "text": [
      "go jurong point crazy available bugis n great world la e buffet cine got amore wat\n"
     ]
    }
   ],
   "source": [
    "clean_sms = sms_to_words(train.iloc[0, 1])\n",
    "print(clean_sms)"
   ]
  },
  {
   "cell_type": "markdown",
   "metadata": {},
   "source": [
    "Maintenant, nettoyons tous les textos."
   ]
  },
  {
   "cell_type": "code",
   "execution_count": 18,
   "metadata": {},
   "outputs": [
    {
     "data": {
      "text/html": [
       "<div>\n",
       "<style>\n",
       "    .dataframe thead tr:only-child th {\n",
       "        text-align: right;\n",
       "    }\n",
       "\n",
       "    .dataframe thead th {\n",
       "        text-align: left;\n",
       "    }\n",
       "\n",
       "    .dataframe tbody tr th {\n",
       "        vertical-align: top;\n",
       "    }\n",
       "</style>\n",
       "<table border=\"1\" class=\"dataframe\">\n",
       "  <thead>\n",
       "    <tr style=\"text-align: right;\">\n",
       "      <th></th>\n",
       "      <th>class</th>\n",
       "      <th>text</th>\n",
       "    </tr>\n",
       "  </thead>\n",
       "  <tbody>\n",
       "    <tr>\n",
       "      <th>0</th>\n",
       "      <td>ham</td>\n",
       "      <td>go jurong point crazy available bugis n great ...</td>\n",
       "    </tr>\n",
       "    <tr>\n",
       "      <th>1</th>\n",
       "      <td>ham</td>\n",
       "      <td>ok lar joking wif u oni</td>\n",
       "    </tr>\n",
       "    <tr>\n",
       "      <th>2</th>\n",
       "      <td>spam</td>\n",
       "      <td>free entry wkly comp win fa cup final tkts st ...</td>\n",
       "    </tr>\n",
       "    <tr>\n",
       "      <th>3</th>\n",
       "      <td>ham</td>\n",
       "      <td>u dun say early hor u c already say</td>\n",
       "    </tr>\n",
       "    <tr>\n",
       "      <th>4</th>\n",
       "      <td>ham</td>\n",
       "      <td>nah think goes usf lives around though</td>\n",
       "    </tr>\n",
       "  </tbody>\n",
       "</table>\n",
       "</div>"
      ],
      "text/plain": [
       "  class                                               text\n",
       "0   ham  go jurong point crazy available bugis n great ...\n",
       "1   ham                            ok lar joking wif u oni\n",
       "2  spam  free entry wkly comp win fa cup final tkts st ...\n",
       "3   ham                u dun say early hor u c already say\n",
       "4   ham             nah think goes usf lives around though"
      ]
     },
     "execution_count": 18,
     "metadata": {},
     "output_type": "execute_result"
    }
   ],
   "source": [
    "train[\"text\"] = train[\"text\"].map(sms_to_words)\n",
    "train.head()"
   ]
  },
  {
   "cell_type": "code",
   "execution_count": 20,
   "metadata": {},
   "outputs": [
    {
     "name": "stdout",
     "output_type": "stream",
     "text": [
      "Sac de mots en création...\n"
     ]
    },
    {
     "data": {
      "text/plain": [
       "(5574, 5000)"
      ]
     },
     "execution_count": 20,
     "metadata": {},
     "output_type": "execute_result"
    }
   ],
   "source": [
    "print(\"Sac de mots en création...\")\n",
    "from sklearn.feature_extraction.text import CountVectorizer\n",
    "\n",
    "vectorizer = CountVectorizer(analyzer = \"word\", tokenizer = None, preprocessor = None, stop_words = None, max_features = 5000)\n",
    "train_data_features = vectorizer.fit_transform(train[\"text\"]).toarray()\n",
    "train_data_features.shape"
   ]
  },
  {
   "cell_type": "markdown",
   "metadata": {},
   "source": [
    "Quels sont alors les carastiristiques (features) utilisés ?"
   ]
  },
  {
   "cell_type": "code",
   "execution_count": 22,
   "metadata": {},
   "outputs": [
    {
     "name": "stdout",
     "output_type": "stream",
     "text": [
      "['aah', 'aathi', 'abi', 'ability', 'abiola', 'abj', 'able', 'absolutly', 'abt', 'abta', 'aburo', 'ac', 'academic', 'acc', 'accept', 'access', 'accident', 'accidentally', 'accordingly', 'account', 'accounts', 'ache', 'acl', 'aco', 'across', 'acted', 'acting', 'action', 'activate', 'active', 'activities', 'actor', 'actual', 'actually', 'ad', 'adam', 'add', 'addamsfa', 'added', 'addicted', 'addie', 'address', 'admin', 'administrator', 'admirer', 'admit', 'adore', 'adoring', 'ads', 'adult', 'advance', 'adventure', 'advice', 'advise', 'ae', 'aeronautics', 'aeroplane', 'affair', 'affairs', 'affection', 'afraid', 'aft', 'afternoon', 'aftr', 'ag', 'agalla', 'age', 'ages', 'ago', 'agree', 'ah', 'aha', 'ahead', 'ahmad', 'aight', 'aint', 'air', 'airport', 'airtel', 'aiya', 'aiyah', 'aiyar', 'aiyo', 'aj', 'aka', 'al', 'alaipayuthe', 'album', 'alcohol', 'alert', 'alex', 'alfie', 'algarve', 'ali', 'alive', 'allah', 'allow', 'allowed', 'almost', 'alone', 'along', 'already', 'alright', 'alrite', 'also', 'although', 'always', 'alwys', 'amazing', 'american', 'among', 'amongst', 'amount', 'amp', 'amt', 'amused', 'amy', 'andros', 'angry', 'animation', 'anna', 'annie', 'anniversary', 'announcement', 'annoying', 'anot', 'another', 'ans', 'ansr', 'answer', 'answered', 'answering', 'answers', 'anthony', 'anti', 'anybody', 'anymore', 'anyone', 'anythin', 'anything', 'anytime', 'anyway', 'anyways', 'anywhere', 'aom', 'apart', 'apartment', 'apo', 'apologise', 'app', 'apparently', 'applebees', 'application', 'apply', 'appointment', 'appreciate', 'appreciated', 'approx', 'apps', 'appt', 'april', 'aproach', 'ar', 'arcade', 'ard', 'area', 'arent', 'argh', 'argue', 'argument', 'arm', 'armand', 'arms', 'arng', 'around', 'arrange', 'arrested', 'arrive', 'arsenal', 'art', 'arts', 'arun', 'asap', 'ashley', 'ask', 'askd', 'asked', 'askin', 'asking', 'asks', 'asleep', 'asp', 'ass', 'assume', 'ate', 'atlanta', 'atlast', 'atm', 'attached', 'attempt', 'attend', 'auction', 'audition', 'audrey', 'august', 'aunt', 'aunts', 'aunty', 'auto', 'av', 'available', 'avatar', 'ave', 'avent', 'avoid', 'avoiding', 'await', 'awaiting', 'awake', 'award', 'awarded', 'away', 'awesome', 'aww', 'ayn', 'ba', 'babe', 'babes', 'babies', 'baby', 'back', 'bad', 'bag', 'bags', 'bahamas', 'bak', 'balance', 'ball', 'bang', 'bank', 'banks', 'bar', 'barely', 'base', 'basic', 'basically', 'bat', 'batch', 'bath', 'bathe', 'bathing', 'battery', 'battle', 'bay', 'bb', 'bbd', 'bc', 'bck', 'bcm', 'bcoz', 'bcums', 'bday', 'bear', 'bears', 'beautiful', 'beauty', 'bec', 'become', 'becomes', 'becoz', 'bed', 'bedrm', 'bedroom', 'beer', 'befor', 'beg', 'begging', 'begin', 'behave', 'behind', 'bein', 'believe', 'belive', 'bell', 'belly', 'belovd', 'beloved', 'ben', 'beneath', 'beneficiary', 'benefits', 'best', 'bet', 'better', 'beware', 'beyond', 'bf', 'bhaji', 'bid', 'bids', 'big', 'bigger', 'biggest', 'bill', 'billed', 'billion', 'bills', 'bin', 'biola', 'bird', 'birds', 'birla', 'birth', 'birthdate', 'birthday', 'bishan', 'bit', 'bitch', 'bite', 'biz', 'bk', 'black', 'blackberry', 'blah', 'blake', 'blame', 'blank', 'bleh', 'bless', 'blessed', 'blessing', 'blessings', 'blind', 'block', 'bloke', 'blonde', 'bloo', 'blood', 'bloody', 'bloomberg', 'blow', 'blu', 'blue', 'bluetooth', 'bluff', 'blur', 'bmw', 'boat', 'body', 'bold', 'bone', 'bonus', 'boo', 'book', 'booked', 'booking', 'books', 'boost', 'booty', 'bootydelious', 'bored', 'borin', 'boring', 'born', 'borrow', 'boss', 'boston', 'bother', 'bottle', 'bottom', 'bought', 'bout', 'bowl', 'box', 'boy', 'boye', 'boyfriend', 'boys', 'boytoy', 'bp', 'brah', 'brain', 'brand', 'brandy', 'bray', 'bread', 'break', 'breath', 'breathe', 'brief', 'bright', 'brilliant', 'bring', 'bringing', 'brings', 'bristol', 'british', 'britney', 'bro', 'broad', 'broke', 'broken', 'bros', 'brothas', 'brother', 'brought', 'bruce', 'bruv', 'bslvyl', 'bstfrnd', 'bt', 'btw', 'bucks', 'bud', 'budget', 'buff', 'buffet', 'bugis', 'build', 'building', 'bulbs', 'buns', 'burger', 'burning', 'burns', 'bus', 'buses', 'business', 'busy', 'butt', 'buy', 'buying', 'buzy', 'buzz', 'bx', 'bye', 'cabin', 'cafe', 'cake', 'cal', 'calculation', 'cali', 'calicut', 'california', 'call', 'callback', 'callcost', 'calld', 'called', 'caller', 'callers', 'callertune', 'callfreefone', 'callin', 'calling', 'calls', 'calm', 'cam', 'camcorder', 'came', 'camera', 'campus', 'canada', 'canal', 'canary', 'cancel', 'cancelled', 'cancer', 'cann', 'cannot', 'cant', 'capital', 'cappuccino', 'captain', 'car', 'card', 'cardiff', 'care', 'cared', 'career', 'careers', 'careful', 'carefully', 'cares', 'caring', 'carlos', 'caroline', 'carry', 'cars', 'cartoon', 'case', 'cash', 'cashbin', 'cashto', 'castor', 'cat', 'catch', 'catching', 'caught', 'cause', 'causing', 'cbe', 'cc', 'cd', 'cdgt', 'cds', 'celeb', 'celebrate', 'celebration', 'cell', 'center', 'centre', 'certainly', 'ch', 'cha', 'chain', 'challenge', 'chance', 'chances', 'change', 'changed', 'changes', 'channel', 'character', 'charge', 'charged', 'charges', 'charity', 'charles', 'chart', 'chase', 'chasing', 'chat', 'chatting', 'cheap', 'cheaper', 'cheat', 'cheating', 'chechi', 'check', 'checked', 'checking', 'cheer', 'cheers', 'cheese', 'chennai', 'cherish', 'chest', 'chicken', 'chikku', 'child', 'childish', 'children', 'chill', 'chillin', 'china', 'chinese', 'chip', 'chocolate', 'choice', 'choose', 'chosen', 'christ', 'christmas', 'church', 'cine', 'cinema', 'citizen', 'city', 'claim', 'claims', 'claire', 'clark', 'class', 'classes', 'cld', 'clean', 'cleaning', 'clear', 'cleared', 'clearing', 'clearly', 'clever', 'click', 'clock', 'clos', 'close', 'closed', 'closer', 'closes', 'clothes', 'club', 'cm', 'cme', 'cn', 'cnn', 'co', 'coast', 'coat', 'cochin', 'cock', 'code', 'coffee', 'coin', 'coins', 'cold', 'colleagues', 'collect', 'collected', 'collecting', 'collection', 'college', 'color', 'colour', 'colours', 'com', 'combine', 'come', 'comedy', 'comes', 'comfort', 'comin', 'coming', 'commercial', 'common', 'community', 'comp', 'company', 'compare', 'competition', 'complaint', 'complete', 'completed', 'completely', 'complimentary', 'compromised', 'computer', 'comuk', 'concentrate', 'concert', 'condition', 'conditions', 'conducts', 'confidence', 'confirm', 'confirmd', 'confirmed', 'conform', 'confused', 'confuses', 'congrats', 'congratulations', 'connect', 'connection', 'connections', 'consider', 'considering', 'console', 'constant', 'constantly', 'contact', 'contacted', 'contacts', 'content', 'contents', 'continue', 'contract', 'control', 'convey', 'convinced', 'convincing', 'cook', 'cooked', 'cookies', 'cooking', 'cool', 'coping', 'copy', 'cornwall', 'correct', 'correction', 'cos', 'cost', 'costa', 'costing', 'costs', 'could', 'count', 'countin', 'country', 'couple', 'courage', 'course', 'cousin', 'cover', 'covers', 'coz', 'cr', 'crab', 'crack', 'cramps', 'crap', 'crash', 'crave', 'craziest', 'crazy', 'cream', 'created', 'credit', 'credited', 'credits', 'creep', 'creepy', 'cricketer', 'crisis', 'crore', 'cross', 'croydon', 'cruise', 'cry', 'cs', 'csbcm', 'csh', 'ctxt', 'cud', 'cuddle', 'cuddling', 'cum', 'cup', 'curious', 'current', 'currently', 'curry', 'cust', 'custcare', 'custom', 'customer', 'customers', 'cut', 'cute', 'cutefrnd', 'cutting', 'cuz', 'cw', 'da', 'dad', 'daddy', 'dai', 'daily', 'damn', 'dan', 'dance', 'dancing', 'dare', 'dark', 'darlin', 'darling', 'darlings', 'darren', 'dat', 'date', 'datebox', 'dates', 'dating', 'datz', 'dave', 'day', 'days', 'dbuk', 'de', 'dead', 'deal', 'dealer', 'dealing', 'dear', 'dearer', 'dearly', 'death', 'december', 'decide', 'decided', 'deciding', 'decimal', 'decision', 'decisions', 'dedicate', 'dedicated', 'deep', 'deepak', 'deeraj', 'def', 'defeat', 'definite', 'definitely', 'del', 'delay', 'delete', 'deleted', 'delhi', 'deliver', 'delivered', 'deliveredtomorrow', 'delivery', 'dem', 'demand', 'den', 'denis', 'department', 'depends', 'depressed', 'derek', 'desert', 'desires', 'desparate', 'desperate', 'despite', 'details', 'detroit', 'deus', 'develop', 'devouring', 'dey', 'dhina', 'dhoni', 'di', 'dial', 'diamonds', 'dick', 'dictionary', 'didnt', 'die', 'died', 'diet', 'diff', 'differ', 'difference', 'different', 'difficult', 'difficulties', 'dificult', 'digital', 'dignity', 'dime', 'din', 'ding', 'dining', 'dinner', 'dint', 'dippeditinadew', 'direct', 'directly', 'dirty', 'dis', 'disclose', 'disconnect', 'discount', 'discreet', 'discuss', 'discussed', 'dislikes', 'display', 'distance', 'distract', 'disturb', 'disturbing', 'division', 'divorce', 'diwali', 'dload', 'dnt', 'dobby', 'doc', 'docs', 'doctor', 'doesnt', 'dog', 'dogging', 'doggy', 'doin', 'dokey', 'dollar', 'dollars', 'donate', 'done', 'donno', 'dont', 'door', 'doors', 'dorm', 'dot', 'double', 'doubt', 'dough', 'download', 'downloaded', 'downloads', 'dr', 'dracula', 'draw', 'dream', 'dreams', 'dress', 'dressed', 'dresser', 'drink', 'drinkin', 'drinking', 'drinks', 'drive', 'driver', 'drivin', 'driving', 'drms', 'drop', 'dropped', 'drove', 'drpd', 'drug', 'drugs', 'drunk', 'drunken', 'dry', 'dsn', 'dt', 'dubsack', 'duchess', 'dude', 'due', 'dumb', 'dun', 'dunno', 'durban', 'dvd', 'dx', 'ear', 'earlier', 'early', 'earn', 'earth', 'easier', 'easily', 'east', 'eastenders', 'easter', 'easy', 'eat', 'eaten', 'eatin', 'eating', 'ebay', 'ec', 'edge', 'edison', 'edu', 'educational', 'ee', 'eek', 'eerie', 'effect', 'effects', 'eg', 'egg', 'eggs', 'eh', 'eight', 'eighth', 'eire', 'either', 'ela', 'elaine', 'electricity', 'else', 'elsewhere', 'em', 'email', 'embarassed', 'empty', 'en', 'end', 'ended', 'ending', 'ends', 'enemy', 'energy', 'eng', 'engin', 'england', 'english', 'enjoy', 'enjoyed', 'enjoyin', 'enough', 'enter', 'entered', 'entitled', 'entry', 'enuff', 'envelope', 'environment', 'epsilon', 'er', 'ericsson', 'erm', 'error', 'escape', 'ese', 'especially', 'esplanade', 'essential', 'essexcm', 'eta', 'etc', 'euro', 'eurodisinc', 'europe', 'eva', 'eve', 'eveb', 'even', 'evening', 'evenings', 'event', 'ever', 'every', 'everybody', 'everyday', 'everyone', 'everything', 'everywhere', 'evn', 'evng', 'evr', 'evrey', 'evry', 'evrydy', 'ex', 'exact', 'exactly', 'exam', 'exams', 'excellent', 'except', 'exciting', 'excuse', 'excuses', 'exe', 'executive', 'exeter', 'exhaust', 'exhausted', 'exmpel', 'exorcist', 'expect', 'expecting', 'expensive', 'experience', 'expired', 'expires', 'explain', 'explicit', 'explosive', 'express', 'expression', 'expressoffer', 'extra', 'ey', 'eye', 'eyes', 'fa', 'fab', 'face', 'facebook', 'fact', 'faggy', 'failed', 'fails', 'fair', 'faith', 'fake', 'fall', 'falling', 'falls', 'family', 'fan', 'fancies', 'fancy', 'fantasies', 'fantastic', 'fantasy', 'far', 'farm', 'fast', 'faster', 'fastest', 'fat', 'father', 'fathima', 'fault', 'fav', 'fave', 'favor', 'favorite', 'favour', 'favourite', 'fb', 'fear', 'feb', 'february', 'feel', 'feelin', 'feeling', 'feels', 'fees', 'feet', 'fell', 'felt', 'female', 'fetch', 'fever', 'field', 'fifteen', 'fight', 'fighting', 'fightng', 'fights', 'figure', 'figures', 'fil', 'file', 'files', 'fill', 'filled', 'filling', 'fills', 'film', 'films', 'filthy', 'final', 'finally', 'finance', 'find', 'fine', 'fingers', 'finish', 'finished', 'finishes', 'finishing', 'fire', 'first', 'fish', 'fit', 'five', 'fix', 'fixed', 'fixedline', 'fl', 'flag', 'flaked', 'flaky', 'flame', 'flash', 'flat', 'flies', 'flight', 'flights', 'flip', 'flirt', 'flirting', 'floor', 'flower', 'flowing', 'fly', 'fml', 'fo', 'foley', 'follow', 'followed', 'following', 'fone', 'food', 'fool', 'foot', 'football', 'footprints', 'force', 'foreign', 'forever', 'forevr', 'forget', 'forgets', 'forgiven', 'forgot', 'forgotten', 'form', 'format', 'forms', 'forum', 'forums', 'forward', 'forwarded', 'found', 'four', 'fr', 'fran', 'frauds', 'freak', 'free', 'freedom', 'freefone', 'freemsg', 'freephone', 'freezing', 'fren', 'frens', 'fret', 'fri', 'friday', 'friend', 'friends', 'friendship', 'fringe', 'frm', 'frnd', 'frnds', 'frndship', 'frog', 'fromm', 'front', 'frying', 'fuck', 'fucked', 'fuckin', 'fucking', 'fujitsu', 'ful', 'full', 'fullonsms', 'fun', 'funeral', 'funk', 'funky', 'funny', 'furniture', 'future', 'fwd', 'fyi', 'ga', 'gain', 'gal', 'galileo', 'gals', 'game', 'games', 'gamestar', 'ganesh', 'gang', 'gap', 'gaps', 'garage', 'garbage', 'garden', 'gardener', 'gary', 'gas', 'gastroenteritis', 'gautham', 'gave', 'gay', 'gaytextbuddy', 'gb', 'gbp', 'gd', 'ge', 'gee', 'geeee', 'geeeee', 'gender', 'generally', 'genius', 'gent', 'gentle', 'gentleman', 'gently', 'genuine', 'george', 'germany', 'get', 'gets', 'getstop', 'gettin', 'getting', 'getzed', 'geva', 'gf', 'ghost', 'gibbs', 'gift', 'gifted', 'gimme', 'gin', 'girl', 'girlfrnd', 'girls', 'gist', 'giv', 'give', 'given', 'gives', 'giving', 'glad', 'gm', 'gn', 'gnt', 'go', 'goal', 'goals', 'god', 'gods', 'goes', 'goin', 'going', 'gold', 'goldviking', 'gona', 'gone', 'gonna', 'good', 'goodfriend', 'goodmorning', 'goodnight', 'goodnite', 'goodnoon', 'goodo', 'google', 'gorgeous', 'gossip', 'got', 'goto', 'gotta', 'gotten', 'govt', 'gpu', 'gr', 'grace', 'grahmbell', 'gram', 'grand', 'granite', 'grave', 'gravity', 'great', 'greatest', 'green', 'greet', 'greetings', 'grins', 'grl', 'ground', 'group', 'grow', 'growing', 'gt', 'gthr', 'guaranteed', 'gud', 'gudnite', 'guess', 'guessing', 'guide', 'guilty', 'guy', 'guys', 'gv', 'gving', 'gym', 'ha', 'habit', 'haf', 'haha', 'hahaha', 'hai', 'hair', 'haiz', 'half', 'hallaq', 'halloween', 'ham', 'hamster', 'hand', 'handed', 'handle', 'hands', 'handset', 'hang', 'hanging', 'happen', 'happend', 'happened', 'happening', 'happens', 'happily', 'happiness', 'happy', 'hard', 'hardcore', 'hardly', 'harry', 'hate', 'hav', 'havent', 'havin', 'havnt', 'hb', 'head', 'headache', 'headin', 'heading', 'heads', 'hear', 'heard', 'heart', 'hearts', 'heater', 'heavy', 'hee', 'height', 'held', 'helen', 'hell', 'hella', 'hello', 'helloooo', 'help', 'helpline', 'hence', 'henry', 'hes', 'hex', 'hey', 'hg', 'hi', 'hide', 'high', 'hill', 'hint', 'hip', 'history', 'hit', 'hiya', 'hl', 'hlp', 'hm', 'hmm', 'hmmm', 'hmv', 'ho', 'hockey', 'hol', 'hold', 'holder', 'holding', 'holiday', 'holla', 'hols', 'holy', 'home', 'homeowners', 'hon', 'honey', 'honeybee', 'hook', 'hop', 'hope', 'hoped', 'hopefully', 'hoping', 'hor', 'horny', 'horo', 'horrible', 'hospital', 'hospitals', 'hostel', 'hot', 'hotel', 'hotels', 'hour', 'hours', 'house', 'housewives', 'howard', 'however', 'hows', 'howz', 'hp', 'hppnss', 'hr', 'hrishi', 'hrs', 'hsbc', 'http', 'hubby', 'hug', 'huge', 'hugs', 'huh', 'hun', 'hundred', 'hungry', 'hunny', 'hurried', 'hurry', 'hurt', 'hurting', 'hurts', 'husband', 'hv', 'hw', 'hyde', 'iam', 'ias', 'ibh', 'ibhltd', 'ibiza', 'ibn', 'ic', 'ice', 'icicibank', 'id', 'idea', 'ideal', 'ideas', 'identifier', 'idew', 'idiot', 'idk', 'ignore', 'ikea', 'il', 'ill', 'illness', 'im', 'imagine', 'imma', 'immediately', 'imp', 'impatient', 'important', 'impossible', 'improve', 'improved', 'inc', 'inch', 'inches', 'incident', 'include', 'including', 'inclusive', 'inconsiderate', 'incredible', 'increments', 'indeed', 'index', 'india', 'indian', 'indians', 'indicate', 'individual', 'indyarocks', 'infections', 'infernal', 'info', 'inform', 'information', 'informed', 'infront', 'ing', 'innings', 'innocent', 'inr', 'insha', 'inshah', 'inside', 'installing', 'instantly', 'instead', 'instituitions', 'instructions', 'insurance', 'intelligent', 'interest', 'interested', 'interesting', 'interflora', 'internet', 'interview', 'intro', 'invaders', 'invest', 'invite', 'invited', 'inviting', 'invnted', 'iouri', 'ip', 'ipad', 'ipod', 'iq', 'irritates', 'irritating', 'iscoming', 'ish', 'island', 'islands', 'isnt', 'issue', 'issues', 'italian', 'itcould', 'items', 'itwhichturnedinto', 'itz', 'ive', 'iz', 'izzit', 'ja', 'jacket', 'jackpot', 'jada', 'james', 'jamster', 'jan', 'jane', 'january', 'japanese', 'jas', 'jason', 'java', 'jay', 'jaya', 'jazz', 'jd', 'jealous', 'jeans', 'jen', 'jenny', 'jerry', 'jess', 'jesus', 'jhl', 'jia', 'jiayin', 'jiu', 'jo', 'joanna', 'job', 'jobs', 'jogging', 'john', 'join', 'joined', 'joining', 'joke', 'jokes', 'jokin', 'joking', 'jolly', 'jolt', 'jordan', 'journey', 'joy', 'jsco', 'jst', 'jstfrnd', 'jsut', 'juan', 'juicy', 'july', 'june', 'jus', 'juz', 'kadeem', 'kaiez', 'kallis', 'kano', 'kappa', 'karaoke', 'kate', 'kavalan', 'kay', 'kb', 'ke', 'keep', 'keeping', 'keeps', 'kegger', 'kent', 'kept', 'kerala', 'keralacircle', 'kettoda', 'key', 'keys', 'kg', 'kick', 'kickoff', 'kicks', 'kid', 'kidding', 'kids', 'kidz', 'killed', 'killing', 'kills', 'kind', 'kinda', 'kindly', 'king', 'kiosk', 'kiss', 'kisses', 'kl', 'knackered', 'knew', 'knock', 'know', 'knowing', 'knows', 'knw', 'konw', 'kothi', 'kr', 'kudi', 'kusruthi', 'kz', 'la', 'lab', 'lacs', 'ladies', 'lady', 'lag', 'laid', 'land', 'landline', 'landlines', 'lands', 'lane', 'langport', 'language', 'laptop', 'lar', 'largest', 'last', 'late', 'lately', 'later', 'latest', 'latr', 'laugh', 'laughed', 'laughing', 'laundry', 'law', 'lays', 'lazy', 'lccltd', 'ldew', 'ldn', 'ldnw', 'le', 'lead', 'learn', 'least', 'leave', 'leaves', 'leaving', 'lect', 'lecture', 'left', 'legal', 'legs', 'leh', 'lei', 'lemme', 'leona', 'less', 'lesson', 'lessons', 'let', 'lets', 'letter', 'letters', 'lf', 'liao', 'lib', 'library', 'lick', 'licks', 'lido', 'lie', 'lies', 'life', 'lifetime', 'lifpartnr', 'lift', 'light', 'lik', 'like', 'liked', 'likely', 'likes', 'lil', 'lily', 'limiting', 'line', 'linerental', 'lines', 'link', 'lion', 'lionm', 'lionp', 'lions', 'lip', 'list', 'listen', 'listening', 'literally', 'little', 'live', 'lived', 'liverpool', 'lives', 'living', 'lk', 'lmao', 'lo', 'loads', 'loan', 'loans', 'local', 'location', 'locations', 'lock', 'log', 'login', 'logo', 'logos', 'lol', 'london', 'lonely', 'long', 'longer', 'look', 'lookatme', 'looked', 'lookin', 'looking', 'looks', 'loose', 'lor', 'lose', 'loses', 'losing', 'loss', 'lost', 'lot', 'lotr', 'lots', 'lotta', 'lou', 'loud', 'lounge', 'lousy', 'lov', 'lovable', 'love', 'loved', 'lovejen', 'lovely', 'loveme', 'lover', 'loverboy', 'lovers', 'loves', 'loving', 'lovingly', 'low', 'lower', 'loxahatchee', 'loyal', 'loyalty', 'lp', 'ls', 'lst', 'lt', 'ltd', 'lttrs', 'luck', 'lucky', 'lucozade', 'lucy', 'lunch', 'lush', 'luv', 'luvs', 'lux', 'luxury', 'lv', 'lvblefrnd', 'lyf', 'lyfu', 'lyk', 'maangalyam', 'mac', 'machan', 'macho', 'mad', 'madam', 'made', 'mag', 'maga', 'magical', 'mah', 'mahal', 'maid', 'mail', 'mailbox', 'mails', 'main', 'maintain', 'major', 'make', 'makes', 'makin', 'making', 'malaria', 'male', 'mall', 'man', 'manage', 'managed', 'management', 'manda', 'mandan', 'maneesha', 'many', 'map', 'march', 'margaret', 'mark', 'market', 'marriage', 'married', 'marrow', 'marry', 'mas', 'massive', 'masters', 'match', 'matches', 'mate', 'mates', 'math', 'mathematics', 'matrix', 'matter', 'matured', 'maturity', 'max', 'maximize', 'may', 'mayb', 'maybe', 'mb', 'mca', 'mcat', 'meal', 'mean', 'meaning', 'means', 'meant', 'meanwhile', 'measure', 'med', 'medical', 'medicine', 'meds', 'meet', 'meetin', 'meeting', 'meets', 'mega', 'meh', 'mei', 'mel', 'melle', 'melt', 'member', 'members', 'membership', 'men', 'mental', 'menu', 'meow', 'merry', 'mesages', 'mess', 'message', 'messaged', 'messages', 'messaging', 'messenger', 'messy', 'met', 'mid', 'middle', 'midnight', 'mids', 'might', 'mila', 'miles', 'milk', 'million', 'min', 'mind', 'mine', 'mini', 'minimum', 'minmobsmorelkpobox', 'minmoremobsemspobox', 'minnaminunginte', 'minor', 'mins', 'minute', 'minutes', 'minuts', 'miracle', 'mis', 'misbehaved', 'miserable', 'miss', 'missed', 'missin', 'missing', 'mistake', 'mistakes', 'mite', 'mitsake', 'mix', 'mk', 'mm', 'mmm', 'mmmm', 'mmmmm', 'mmmmmm', 'mnth', 'mnths', 'mo', 'moan', 'mob', 'mobile', 'mobiles', 'mobilesdirect', 'mobilesvary', 'mobileupd', 'mobno', 'moby', 'mode', 'model', 'module', 'modules', 'moji', 'mojibiola', 'mokka', 'mom', 'moment', 'moments', 'moms', 'mon', 'monday', 'money', 'monkeys', 'mono', 'month', 'monthly', 'months', 'mood', 'moon', 'moral', 'morefrmmob', 'morn', 'mornin', 'morning', 'moro', 'morow', 'morphine', 'morro', 'morrow', 'mostly', 'mother', 'motorola', 'mouth', 'move', 'moved', 'moves', 'movie', 'movies', 'movietrivia', 'moving', 'mp', 'mr', 'mrng', 'mrt', 'mrw', 'ms', 'msg', 'msging', 'msgrcvd', 'msgrcvdhg', 'msgs', 'msn', 'mt', 'mtalk', 'mth', 'mths', 'mtmsg', 'mtmsgrcvd', 'mu', 'muah', 'much', 'mum', 'mummy', 'mumtaz', 'munsters', 'murder', 'murdered', 'murderer', 'music', 'must', 'musthu', 'muz', 'mystery', 'na', 'nag', 'nagar', 'nah', 'nahi', 'naked', 'nalla', 'name', 'named', 'names', 'nan', 'nap', 'nasdaq', 'nasty', 'nat', 'natalie', 'natalja', 'national', 'natural', 'nature', 'naughty', 'nb', 'nd', 'ne', 'near', 'nearly', 'necessarily', 'necessary', 'neck', 'necklace', 'ned', 'need', 'needed', 'needs', 'neft', 'neighbour', 'neither', 'nervous', 'net', 'netcollex', 'network', 'networking', 'networks', 'neva', 'never', 'new', 'neway', 'newest', 'news', 'next', 'ni', 'nic', 'nice', 'nichols', 'nigeria', 'night', 'nights', 'nimya', 'nit', 'nite', 'nitros', 'nobody', 'noe', 'nok', 'nokia', 'nokias', 'noline', 'none', 'noon', 'nope', 'norm', 'normal', 'normally', 'northampton', 'nos', 'note', 'nothin', 'nothing', 'notice', 'notxt', 'noun', 'nowadays', 'nt', 'ntt', 'ntwk', 'num', 'number', 'numbers', 'nurungu', 'nus', 'nuther', 'nvm', 'nw', 'nxt', 'ny', 'nyc', 'nydc', 'nyt', 'obviously', 'occupy', 'odi', 'offer', 'offers', 'office', 'official', 'officially', 'ofice', 'often', 'oh', 'oi', 'oic', 'oil', 'ok', 'okay', 'okey', 'okie', 'ola', 'old', 'omg', 'omw', 'one', 'ones', 'oni', 'onion', 'online', 'onto', 'onwards', 'oooh', 'oops', 'open', 'opening', 'operator', 'opinion', 'opinions', 'opportunity', 'opt', 'option', 'optout', 'orange', 'oranges', 'orchard', 'order', 'ordered', 'oredi', 'oreo', 'orig', 'original', 'oru', 'os', 'oso', 'others', 'otherwise', 'otside', 'outside', 'outstanding', 'outta', 'ovulation', 'ow', 'owns', 'oz', 'pa', 'pack', 'package', 'packs', 'page', 'pages', 'paid', 'pain', 'painful', 'painting', 'pale', 'pan', 'pandy', 'panic', 'pap', 'paper', 'papers', 'paperwork', 'paragon', 'parco', 'parent', 'parents', 'paris', 'park', 'parked', 'parking', 'part', 'partner', 'partnership', 'party', 'pass', 'passed', 'passionate', 'password', 'passwords', 'past', 'pattern', 'patty', 'pay', 'payed', 'payee', 'paying', 'payment', 'payoh', 'pc', 'peace', 'peaceful', 'peak', 'pee', 'pen', 'pence', 'pending', 'penis', 'people', 'per', 'percent', 'perfect', 'perhaps', 'period', 'person', 'personal', 'personality', 'persons', 'perwksub', 'pete', 'petey', 'petrol', 'pg', 'ph', 'philosophy', 'phne', 'phoenix', 'phone', 'phoned', 'phones', 'photo', 'photos', 'php', 'pic', 'pick', 'picked', 'picking', 'pickle', 'pics', 'picsfree', 'picture', 'pictures', 'pie', 'piece', 'pieces', 'pig', 'pilates', 'pimples', 'pin', 'pink', 'piss', 'pissed', 'pix', 'pizza', 'place', 'placement', 'places', 'plan', 'plane', 'planet', 'planned', 'planning', 'plans', 'play', 'played', 'player', 'players', 'playing', 'plaza', 'please', 'pleased', 'pleasure', 'plenty', 'plm', 'pls', 'plus', 'plz', 'pm', 'po', 'pobox', 'pocketbabe', 'pod', 'poem', 'point', 'points', 'poker', 'pole', 'police', 'politicians', 'polo', 'poly', 'polyh', 'polyph', 'polyphonic', 'polys', 'pongal', 'pool', 'poop', 'poor', 'pop', 'popcorn', 'popped', 'porn', 'position', 'possession', 'possible', 'post', 'postcard', 'postcode', 'posted', 'posts', 'potato', 'potential', 'potter', 'pouch', 'pound', 'pounds', 'pours', 'pouts', 'power', 'pp', 'ppermesssubscription', 'ppl', 'pple', 'ppm', 'ppmx', 'ppw', 'prabha', 'practical', 'practice', 'practicing', 'pray', 'praying', 'pre', 'prefer', 'preferably', 'prem', 'premier', 'premium', 'prepaid', 'prepare', 'prepared', 'prepayment', 'prescription', 'present', 'press', 'pressies', 'pressure', 'prestige', 'pretend', 'pretsorginta', 'pretsovru', 'pretty', 'prevent', 'previews', 'previous', 'previously', 'prey', 'price', 'prices', 'pride', 'priest', 'prin', 'prince', 'princes', 'princess', 'print', 'printed', 'printer', 'printing', 'prior', 'priority', 'priscilla', 'privacy', 'private', 'prix', 'priya', 'prize', 'prizeawaiting', 'prizes', 'prizeswith', 'pro', 'prob', 'probably', 'problem', 'problematic', 'problems', 'problms', 'problum', 'probpop', 'probs', 'probthat', 'process', 'processed', 'prods', 'products', 'prof', 'professional', 'professors', 'profile', 'profiles', 'profit', 'program', 'programs', 'progress', 'project', 'projects', 'prolly', 'prometazine', 'prominent', 'promise', 'promised', 'promises', 'promo', 'promoting', 'promotion', 'promptly', 'prompts', 'prone', 'proof', 'proove', 'proper', 'properly', 'property', 'propose', 'props', 'propsd', 'pros', 'prospects', 'protect', 'prove', 'proverb', 'provided', 'provider', 'providing', 'province', 'proze', 'prsn', 'ps', 'pshew', 'psp', 'psxtra', 'psychiatrist', 'psychic', 'psychologist', 'pt', 'ptbo', 'pthis', 'pub', 'public', 'publish', 'pubs', 'pudunga', 'pull', 'pulling', 'pulls', 'pump', 'punch', 'punish', 'punishment', 'punj', 'punto', 'puppy', 'pura', 'purchase', 'purchases', 'pure', 'purity', 'purple', 'purpose', 'purse', 'push', 'pushbutton', 'pushes', 'pussy', 'put', 'puts', 'puttin', 'putting', 'puzzeles', 'puzzles', 'pw', 'px', 'qatar', 'qbank', 'qet', 'qf', 'qi', 'qing', 'qjkgighjjgcbl', 'qlynnbv', 'qp', 'qu', 'quality', 'quarter', 'que', 'queen', 'queries', 'ques', 'question', 'questioned', 'questions', 'quick', 'quickly', 'quiet', 'quit', 'quite', 'quiteamuzing', 'quitting', 'quiz', 'quizclub', 'quizzes', 'quote', 'quoting', 'qxj', 'racal', 'racing', 'radiator', 'radio', 'raed', 'rael', 'raglan', 'rahul', 'raiden', 'railway', 'rain', 'raining', 'raise', 'raised', 'raj', 'rajas', 'raji', 'rajini', 'rajitha', 'rajnikant', 'rakhesh', 'raksha', 'rally', 'ralphs', 'ramaduth', 'ramen', 'ran', 'random', 'randomlly', 'randomly', 'randy', 'rang', 'range', 'ranjith', 'ranju', 'raping', 'rate', 'rates', 'rather', 'ratio', 'rats', 'raviyog', 'rawring', 'rayan', 'rayman', 'rays', 'rcb', 'rcd', 'rct', 'rcv', 'rcvd', 'rd', 'rdy', 'reach', 'reache', 'reached', 'reaching', 'reacting', 'reaction', 'read', 'readers', 'readiness', 'reading', 'ready', 'real', 'realise', 'realised', 'realising', 'reality', 'realize', 'realized', 'realizes', 'really', 'reallyneed', 'realy', 'reapply', 'rearrange', 'reason', 'reasonable', 'reasons', 'reassurance', 'reassuring', 'rebel', 'reboot', 'rebooting', 'rebtel', 'rec', 'recd', 'receipt', 'receipts', 'receive', 'receivea', 'received', 'receiving', 'recent', 'recently', 'reception', 'recession', 'recharge', 'recharged', 'recieve', 'reckon', 'recognise', 'recognises', 'record', 'recorded', 'recorder', 'records', 'recount', 'recovery', 'recpt', 'recreation', 'recycling', 'red', 'redeemable', 'redeemed', 'reduce', 'ree', 'ref', 'reference', 'references', 'referin', 'reffering', 'refilled', 'reflection', 'reflex', 'reformat', 'refreshed', 'refund', 'refunded', 'refused', 'reg', 'regalportfolio', 'regard', 'regarding', 'regards', 'register', 'registered', 'registration', 'regret', 'regretted', 'regular', 'rejected', 'related', 'relation', 'relationship', 'relatives', 'relax', 'relaxing', 'released', 'reliant', 'relieved', 'religiously', 'relocate', 'reltnship', 'rem', 'remain', 'remains', 'remb', 'remember', 'remembered', 'rememberi', 'remembr', 'remembrs', 'remind', 'reminded', 'reminder', 'reminding', 'reminds', 'remixed', 'removal', 'remove', 'removed', 'rencontre', 'renewal', 'renewed', 'renewing', 'rent', 'rental', 'renting', 'rentl', 'rents', 'repair', 'repairs', 'repeat', 'repeating', 'repent', 'replace', 'replacement', 'replacing', 'replied', 'replies', 'reply', 'replying', 'replys', 'report', 'reppurcussions', 'representative', 'republic', 'request', 'requests', 'require', 'required', 'requirements', 'requires', 'research', 'resend', 'resent', 'reservations', 'reserve', 'reserved', 'reserves', 'reset', 'residency', 'resizing', 'reslove', 'resolution', 'resolved', 'resort', 'respect', 'respectful', 'responce', 'respond', 'responding', 'response', 'responsibilities', 'responsibility', 'responsible', 'rest', 'restaurant', 'restock', 'restocked', 'restrict', 'restrictions', 'resubbing', 'resubmit', 'result', 'results', 'resume', 'resuming', 'retard', 'retired', 'retrieve', 'return', 'returned', 'returning', 'returns', 'reunion', 'reveal', 'revealed', 'revealing', 'reverse', 'review', 'revision', 'reward', 'rewarding', 'rg', 'rgds', 'rgent', 'rhode', 'rhythm', 'rice', 'rich', 'riddance', 'ridden', 'ride', 'right', 'rightio', 'rightly', 'rights', 'riley', 'rimac', 'ring', 'ringing', 'rings', 'ringtone', 'ringtoneking', 'ringtones', 'rinu', 'rip', 'ripped', 'rise', 'risk', 'risks', 'rite', 'ritten', 'river', 'road', 'roads', 'roast', 'rob', 'robinson', 'robs', 'rock', 'rocking', 'rocks', 'rodds', 'rodger', 'rofl', 'roger', 'role', 'roles', 'rolled', 'roller', 'romantic', 'romcapspam', 'ron', 'room', 'roomate', 'roommate', 'roommates', 'rooms', 'ros', 'rose', 'roses', 'rough', 'round', 'rounder', 'rounds', 'route', 'row', 'rowdy', 'rows', 'royal', 'rp', 'rpl', 'rply', 'rr', 'rs', 'rstm', 'rt', 'rtf', 'rtm', 'rto', 'ru', 'rub', 'rubber', 'rude', 'rudi', 'rugby', 'ruin', 'ruining', 'rule', 'rules', 'rum', 'rumbling', 'rummer', 'rumour', 'run', 'running', 'runs', 'rupaul', 'rush', 'rushing', 'ruthful', 'rv', 'rvx', 'rw', 'rwm', 'ryan', 'ryder', 'sabarish', 'sac', 'sachin', 'sack', 'sacked', 'sacrifice', 'sad', 'sae', 'saeed', 'safe', 'safely', 'safety', 'sagamu', 'saibaba', 'said', 'sake', 'salad', 'salam', 'salary', 'sale', 'sales', 'salesman', 'sall', 'salmon', 'salon', 'salt', 'sam', 'samachara', 'samantha', 'sambar', 'samus', 'sandiago', 'sane', 'sang', 'sankatmochan', 'sankranti', 'santa', 'sar', 'sara', 'sarasota', 'sarcasm', 'sarcastic', 'saristar', 'sariyag', 'sary', 'sashimi', 'sat', 'satanic', 'sathy', 'sathya', 'satisfied', 'satisfy', 'satsgettin', 'satthen', 'saturday', 'saucy', 'sausage', 'savamob', 'save', 'saved', 'saves', 'savings', 'saw', 'say', 'saying', 'says', 'scared', 'scary', 'sch', 'schedule', 'school', 'schools', 'science', 'scold', 'score', 'scores', 'scoring', 'scotch', 'scotland', 'scotsman', 'scream', 'screamed', 'screaming', 'screen', 'scrounge', 'sculpture', 'sd', 'sday', 'sdryb', 'se', 'sea', 'search', 'searching', 'season', 'seat', 'sec', 'second', 'secondary', 'seconds', 'secret', 'secretary', 'secretly', 'secrets', 'secs', 'section', 'sections', 'secure', 'secured', 'sed', 'see', 'seeds', 'seeing', 'seekers', 'seeking', 'seem', 'seemed', 'seems', 'seen', 'sef', 'seh', 'sehwag', 'seing', 'select', 'selected', 'selection', 'self', 'selfindependence', 'selfish', 'selflessness', 'sell', 'selling', 'sells', 'sem', 'semester', 'semi', 'semiobscure', 'sen', 'send', 'sender', 'sending', 'sends', 'senor', 'senrd', 'sense', 'senses', 'sensible', 'sensitive', 'sent', 'sentence', 'senthil', 'sentiment', 'seperated', 'sept', 'september', 'serena', 'series', 'serious', 'seriously', 'served', 'server', 'service', 'services', 'serving', 'servs', 'set', 'setting', 'settings', 'settle', 'settled', 'settling', 'seven', 'seventeen', 'several', 'sex', 'sexiest', 'sextextuk', 'sexual', 'sexy', 'sexychat', 'sez', 'sf', 'sg', 'sh', 'sha', 'shade', 'shadow', 'shag', 'shagged', 'shah', 'shahjahan', 'shakara', 'shake', 'shakespeare', 'shaking', 'shall', 'shame', 'shampain', 'shangela', 'shanghai', 'shanil', 'shant', 'shaping', 'share', 'shared', 'sharing', 'shattered', 'shaved', 'shb', 'shd', 'sheet', 'sheets', 'sheffield', 'shelf', 'shell', 'shelves', 'sherawat', 'shes', 'shesil', 'shexy', 'shhhhh', 'shifad', 'shijas', 'shijutta', 'shinco', 'shindig', 'shining', 'shiny', 'ship', 'shipped', 'shipping', 'shirt', 'shirts', 'shit', 'shite', 'shitin', 'shitinnit', 'shitload', 'shitstorm', 'shivratri', 'shld', 'shldxxxx', 'shock', 'shocking', 'shoes', 'shola', 'shoot', 'shop', 'shoppin', 'shopping', 'shoranur', 'shore', 'short', 'shortage', 'shortbreaks', 'shortcode', 'shorter', 'shortly', 'shorts', 'shot', 'shoul', 'shoulders', 'shouted', 'shouting', 'shove', 'shoving', 'show', 'showed', 'shower', 'showered', 'showers', 'showing', 'showr', 'showrooms', 'shows', 'shracomorsglsuplt', 'shrek', 'shrink', 'shrub', 'shsex', 'shu', 'shud', 'shudvetold', 'shuhui', 'shun', 'shut', 'shy', 'si', 'sian', 'sib', 'sic', 'sick', 'sickness', 'side', 'sigh', 'sighs', 'sight', 'sign', 'signal', 'significance', 'significant', 'signin', 'signing', 'siguviri', 'silence', 'silent', 'silently', 'silly', 'silver', 'sim', 'simonwatson', 'simple', 'simpler', 'simply', 'simpsons', 'simulate', 'since', 'sinco', 'sindu', 'sing', 'singapore', 'singing', 'single', 'singles', 'sink', 'sip', 'sipix', 'sips', 'sir', 'sirji', 'sis', 'sister', 'sisters', 'sit', 'site', 'sitll', 'sitter', 'sittin', 'sitting', 'situation', 'situations', 'siva', 'six', 'size', 'sized', 'sk', 'skateboarding', 'skilgme', 'skillgame', 'skills', 'skinny', 'skins', 'skint', 'skip', 'skirt', 'sky', 'skye', 'skype', 'skyped', 'skyving', 'slaaaaave', 'slacking', 'slap', 'slave', 'sleep', 'sleepin', 'sleeping', 'sleepingwith', 'sleeps', 'sleepwell', 'sleepy', 'slept', 'slice', 'slices', 'slide', 'sliding', 'slightly', 'slip', 'slippers', 'slippery', 'slo', 'slob', 'slots', 'slovely', 'slow', 'slower', 'slowing', 'slowly', 'slp', 'slurp', 'smacks', 'small', 'smaller', 'smart', 'smartcall', 'smarter', 'smash', 'smashed', 'smear', 'smell', 'smells', 'smeone', 'smidgin', 'smile', 'smiled', 'smiles', 'smiley', 'smiling', 'smith', 'smoke', 'smoked', 'smokes', 'smokin', 'smoking', 'smoothly', 'sms', 'smsco', 'smsing', 'smsrewards', 'smsservices', 'smth', 'sn', 'snake', 'snap', 'snappy', 'snatch', 'snd', 'sneham', 'snickering', 'snogs', 'snoring', 'snot', 'snow', 'snowball', 'snowboarding', 'snowman', 'snuggles', 'soc', 'sochte', 'social', 'sofa', 'soft', 'software', 'soil', 'soiree', 'sol', 'soladha', 'sold', 'solihull', 'solve', 'solved', 'somebody', 'someday', 'someone', 'someonone', 'someplace', 'somerset', 'sometext', 'somethin', 'something', 'sometime', 'sometimes', 'sometme', 'somewhat', 'somewhere', 'somewheresomeone', 'somewhr', 'somone', 'somtimes', 'sonathaya', 'sonetimes', 'song', 'songs', 'sony', 'sonyericsson', 'soo', 'soon', 'sooner', 'soonlots', 'sooo', 'soooo', 'sooooo', 'sophas', 'sore', 'sorrow', 'sorrows', 'sorry', 'sort', 'sorta', 'sorted', 'sorting', 'sorts', 'sory', 'soryda', 'sos', 'soul', 'sound', 'sounding', 'sounds', 'soundtrack', 'soup', 'source', 'sources', 'south', 'southern', 'souveniers', 'soz', 'sozi', 'sp', 'space', 'spacebucks', 'spaces', 'spageddies', 'spain', 'spam', 'spanish', 'spare', 'spares', 'spark', 'sparkling', 'spatula', 'speak', 'speaking', 'special', 'speciale', 'specialisation', 'specialise', 'specially', 'specific', 'specify', 'specs', 'speechless', 'speed', 'speedchat', 'speeding', 'speling', 'spell', 'spelled', 'spelling', 'spend', 'spending', 'spent', 'sphosting', 'spice', 'spider', 'spiffing', 'spile', 'spin', 'spinout', 'spiral', 'spirit', 'spjanuary', 'spk', 'spl', 'splash', 'splashmobile', 'splat', 'splendid', 'split', 'splleing', 'spoil', 'spoiled', 'spoilt', 'spoke', 'spoken', 'sponsors', 'spontaneously', 'spook', 'spoon', 'spoons', 'sporadically', 'sport', 'sports', 'sportsx', 'spose', 'spot', 'spotty', 'spouse', 'sppok', 'spreadsheet', 'spree', 'spring', 'springs', 'sprint', 'sptv', 'spun', 'spys', 'sq', 'squatting', 'squeeeeeze', 'squeezed', 'squid', 'squishy', 'sri', 'srs', 'srsly', 'srt', 'sry', 'ss', 'st', 'stability', 'stable', 'stadium', 'staff', 'stage', 'stagwood', 'stairs', 'stalk', 'stalking', 'stamped', 'stamps', 'stand', 'standard', 'standing', 'stands', 'stapati', 'star', 'starer', 'staring', 'starring', 'stars', 'starshine', 'start', 'started', 'starting', 'starts', 'starve', 'starving', 'starwars', 'stash', 'stated', 'statement', 'statements', 'station', 'status', 'stay', 'stayed', 'stayin', 'staying', 'stays', 'stchoice', 'std', 'stdtxtrate', 'steak', 'steal', 'stealing', 'steam', 'steamboat', 'steed', 'steering', 'step', 'steps', 'stereo', 'stereophonics', 'sterling', 'sterm', 'steve', 'stewartsize', 'steyn', 'sth', 'stick', 'sticky', 'stifled', 'stil', 'still', 'stink', 'stitch', 'stock', 'stocked', 'stockport', 'stolen', 'stomach', 'stomps', 'stone', 'stoners', 'stones', 'stool', 'stop', 'stopbcm', 'stopcost', 'stopcs', 'stopped', 'stops', 'stopsms', 'stoptx', 'stoptxt', 'stoptxtstop', 'store', 'stores', 'stories', 'storming', 'story', 'str', 'straight', 'strain', 'strange', 'stranger', 'stream', 'street', 'stress', 'stressed', 'stressful', 'stressfull', 'stretch', 'strewn', 'strict', 'strike', 'strings', 'strip', 'stripes', 'strips', 'strokes', 'strong', 'strongly', 'strt', 'strtd', 'struggling', 'sts', 'stu', 'stubborn', 'stuck', 'studdying', 'student', 'studentfinancial', 'students', 'studies', 'studio', 'study', 'studying', 'studyn', 'stuff', 'stuffed', 'stuffing', 'stuffs', 'stunning', 'stupid', 'style', 'styles', 'styling', 'stylish', 'stylist', 'sub', 'subject', 'subletting', 'submitted', 'submitting', 'subpoly', 'subs', 'subscribe', 'subscribed', 'subscriber', 'subscribers', 'subscription', 'subscriptions', 'subscriptn', 'subscrition', 'subsequent', 'subtoitles', 'success', 'successful', 'successfully', 'sucker', 'suckers', 'sucks', 'sudden', 'suddenly', 'sudn', 'sue', 'suffer', 'suffering', 'suffers', 'sufficient', 'sugababes', 'suganya', 'sugar', 'sugardad', 'suggest', 'suggestion', 'suggestions', 'suite', 'suitemates', 'suits', 'sullivan', 'sum', 'suman', 'sumfing', 'summer', 'summers', 'summon', 'sumthin', 'sun', 'sunday', 'sundayish', 'sunlight', 'sunny', 'sunoco', 'sunroof', 'sunscreen', 'sunshine', 'suntec', 'sup', 'super', 'superb', 'superior', 'supervisor', 'suply', 'supose', 'suppliers', 'supplies', 'supply', 'support', 'supports', 'suppose', 'supposed', 'supreme', 'suprman', 'sura', 'sure', 'surely', 'surf', 'surfing', 'surgical', 'surly', 'surname', 'surprise', 'surprised', 'surrender', 'surrounded', 'survey', 'surya', 'sutra', 'sux', 'suzy', 'svc', 'sw', 'swalpa', 'swan', 'swann', 'swap', 'swashbuckling', 'swat', 'swatch', 'sway', 'swayze', 'swear', 'sweater', 'sweatter', 'sweet', 'sweetest', 'sweetheart', 'sweetie', 'sweets', 'swell', 'swhrt', 'swimming', 'swimsuit', 'swing', 'swiss', 'switch', 'swollen', 'swoop', 'swt', 'swtheart', 'syd', 'syllabus', 'symbol', 'sympathetic', 'symptoms', 'synced', 'syria', 'syrup', 'system', 'systems', 'ta', 'table', 'tablet', 'tablets', 'tackle', 'tacos', 'tactful', 'tactless', 'tag', 'tagged', 'tahan', 'tai', 'tait', 'taj', 'take', 'taken', 'takes', 'takin', 'taking', 'talent', 'talk', 'talking', 'talks', 'tampa', 'tank', 'tap', 'tape', 'tariffs', 'taste', 'tat', 'taunton', 'taxi', 'taylor', 'tayseer', 'tb', 'tc', 'tcr', 'tcs', 'tea', 'teach', 'teacher', 'teaches', 'teaching', 'team', 'teams', 'tear', 'tears', 'tease', 'teasing', 'tech', 'technical', 'technologies', 'tee', 'teenager', 'teeth', 'teju', 'tel', 'telediscount', 'telephone', 'telephonic', 'teletext', 'tell', 'telling', 'tellmiss', 'tells', 'telly', 'telphone', 'telugu', 'temales', 'temp', 'temple', 'ten', 'tenants', 'tenerife', 'tensed', 'tension', 'term', 'terminated', 'terms', 'termsapply', 'ternal', 'terrible', 'terrific', 'terror', 'terrorist', 'terry', 'tescos', 'tessy', 'test', 'testing', 'tests', 'tex', 'texas', 'texd', 'text', 'textand', 'textbook', 'textbuddy', 'textcomp', 'texted', 'textin', 'texting', 'textoperator', 'textpod', 'texts', 'tf', 'tg', 'tgxxrz', 'th', 'thandiyachu', 'thangam', 'thank', 'thanks', 'thanksgiving', 'thanku', 'thankyou', 'thanx', 'thasa', 'thatmum', 'thats', 'theacusations', 'theater', 'theatre', 'thecd', 'thedailydraw', 'thekingshead', 'themed', 'themes', 'themob', 'thenampet', 'theoretically', 'theory', 'theplace', 'thepub', 'theres', 'thesedays', 'thesis', 'thesmszone', 'thet', 'thew', 'theyre', 'thfeb', 'thgt', 'thia', 'thin', 'thing', 'things', 'think', 'thinked', 'thinkin', 'thinking', 'thinks', 'thinkthis', 'thinl', 'thirtyeight', 'thirunelvali', 'thk', 'thkin', 'thm', 'thmarch', 'thnk', 'thnov', 'thnq', 'thnx', 'tho', 'thot', 'thou', 'though', 'thought', 'thoughts', 'thousad', 'thousands', 'thout', 'thread', 'threats', 'three', 'threw', 'thriller', 'throat', 'throw', 'throwin', 'throwing', 'thrown', 'throws', 'thru', 'ths', 'tht', 'thts', 'thuglyfe', 'thurs', 'thursday', 'thus', 'thx', 'thy', 'tick', 'ticket', 'tickets', 'tie', 'tiempo', 'tiger', 'tight', 'tightly', 'tigress', 'tihs', 'tiime', 'til', 'till', 'tim', 'time', 'times', 'timi', 'timin', 'timing', 'timings', 'tiny', 'tip', 'tips', 'tired', 'tiring', 'tirunelvai', 'tirunelvali', 'tirupur', 'tis', 'tissco', 'title', 'titles', 'tiwary', 'tix', 'tiz', 'tke', 'tkls', 'tkts', 'tlk', 'tlp', 'tm', 'tming', 'tmorow', 'tmorrow', 'tmr', 'tmrw', 'tms', 'tmw', 'tnc', 'tncs', 'toa', 'toaday', 'tobacco', 'tobed', 'tocall', 'toclaim', 'today', 'todays', 'todo', 'tog', 'together', 'tohar', 'toilet', 'tok', 'token', 'toking', 'tol', 'told', 'toledo', 'tolerance', 'tolerat', 'toll', 'tom', 'tomarrow', 'tome', 'tomeandsaid', 'tomo', 'tomorro', 'tomorrow', 'tomorw', 'tone', 'tones', 'tonexs', 'tonght', 'tongued', 'tonight', 'tonights', 'tonite', 'tons', 'tonsolitusaswell', 'took', 'tookplace', 'tool', 'tooo', 'toot', 'tooth', 'toothpaste', 'tootsie', 'top', 'topic', 'toplay', 'topped', 'toppoly', 'tops', 'tor', 'torch', 'torrents', 'tortilla', 'torture', 'tosend', 'toshiba', 'toss', 'tot', 'total', 'totally', 'totes', 'touch', 'touched', 'tough', 'toughest', 'tour', 'towards', 'town', 'toxic', 'toyota', 'tp', 'tr', 'track', 'trackmarque', 'trade', 'traditions', 'traffic', 'train', 'trained', 'training', 'trainners', 'trains', 'tram', 'tranquility', 'transaction', 'transcribing', 'transfer', 'transfered', 'transferred', 'transfr', 'transfred', 'transport', 'trash', 'trauma', 'trav', 'travel', 'traveling', 'travelled', 'travelling', 'treacle', 'treadmill', 'treasure', 'treat', 'treated', 'treatin', 'treats', 'trebles', 'tree', 'trek', 'trends', 'trial', 'tried', 'trip', 'triple', 'trips', 'trishul', 'triumphed', 'trivia', 'tron', 'trouble', 'troubleshooting', 'trouser', 'truble', 'truck', 'true', 'truffles', 'truly', 'truro', 'trust', 'trusting', 'truth', 'try', 'tryin', 'trying', 'ts', 'tsandcs', 'tscs', 'tsunami', 'tsunamis', 'tt', 'ttyl', 'tue', 'tues', 'tuesday', 'tui', 'tuition', 'tul', 'tulip', 'tulsi', 'tunde', 'tune', 'tunji', 'turkeys', 'turn', 'turned', 'turning', 'turns', 'tuth', 'tv', 'twat', 'twelve', 'twenty', 'twice', 'twiggs', 'twilight', 'twinks', 'twins', 'twittering', 'two', 'tx', 'txt', 'txtauction', 'txtin', 'txting', 'txtno', 'txts', 'txtstar', 'txtstop', 'txttowin', 'txtx', 'tyler', 'type', 'types', 'typical', 'tyrone', 'uawake', 'ubandu', 'ubi', 'ud', 'ugadi', 'ugh', 'ugo', 'uh', 'uhhhhrmm', 'uin', 'ujhhhhhhh', 'uk', 'ukp', 'uks', 'ultimate', 'ultimately', 'ultimatum', 'um', 'umma', 'ummifying', 'ummma', 'ummmmmaah', 'un', 'unable', 'unbelievable', 'unbreakable', 'unclaimed', 'uncle', 'uncles', 'uncomfortable', 'unconditionally', 'unconscious', 'unconsciously', 'unconvinced', 'uncountable', 'uncut', 'underdtand', 'understand', 'understanding', 'understood', 'underwear', 'undrstnd', 'undrstndng', 'unemployed', 'uneventful', 'unfolds', 'unfortunately', 'unfortuntly', 'unhappiness', 'unhappy', 'uni', 'unicef', 'uniform', 'unintentional', 'unintentionally', 'unique', 'united', 'units', 'univ', 'university', 'unjalur', 'unkempt', 'unknown', 'unless', 'unlike', 'unlimited', 'unmits', 'unnecessarily', 'unni', 'unrecognized', 'unredeemed', 'unsecured', 'unsold', 'unspoken', 'unsub', 'unsubscribe', 'unsubscribed', 'untamed', 'unusual', 'upcharge', 'upd', 'updat', 'update', 'upgrade', 'upgrading', 'upgrdcentre', 'upload', 'uploaded', 'upon', 'upping', 'ups', 'upset', 'upstairs', 'upto', 'uptown', 'ur', 'urawinner', 'ure', 'urfeeling', 'urgent', 'urgently', 'urgh', 'urgnt', 'urgoin', 'urgran', 'urination', 'url', 'urmom', 'urn', 'urself', 'us', 'usa', 'usb', 'usc', 'use', 'used', 'useful', 'useless', 'user', 'uses', 'usf', 'usher', 'using', 'usmle', 'usps', 'usual', 'usually', 'utele', 'uterus', 'utter', 'uttered', 'utxt', 'uup', 'uv', 'uve', 'uwana', 'uwant', 'uworld', 'uz', 'va', 'vaazhthukkal', 'vague', 'vaguely', 'vale', 'valentine', 'valentines', 'valid', 'valuable', 'value', 'valued', 'values', 'valuing', 'varaya', 'vargu', 'various', 'varma', 'varunnathu', 'vary', 'vasai', 'vat', 'vatian', 'vava', 'vco', 'vday', 'vegas', 'vegetables', 'veggie', 'vehicle', 'velachery', 'velly', 'velusamy', 'venaam', 'venugopal', 'verified', 'verify', 'verifying', 'version', 'versus', 'vettam', 'vewy', 'via', 'vibrant', 'vibrate', 'vibrator', 'vic', 'victoria', 'victors', 'vid', 'video', 'videochat', 'videophones', 'videos', 'videosound', 'videosounds', 'view', 'vijay', 'vijaykanth', 'vikky', 'vilikkam', 'vill', 'villa', 'village', 'vinobanagar', 'violated', 'violence', 'violet', 'vip', 'vipclub', 'virgil', 'virgin', 'virgins', 'virtual', 'visa', 'visionsms', 'visit', 'visiting', 'visitor', 'visitors', 'vital', 'vitamin', 'viva', 'vivek', 'vivekanand', 'vl', 'voda', 'vodafone', 'vodka', 'voice', 'voicemail', 'voila', 'volcanoes', 'vomit', 'vomitin', 'vomiting', 'vote', 'voted', 'vouch', 'voucher', 'vouchers', 'vpod', 'vry', 'vs', 'vth', 'vu', 'wa', 'waaaat', 'wad', 'wadebridge', 'wah', 'wahala', 'wahay', 'waheed', 'waheeda', 'wahleykkum', 'waht', 'wait', 'waited', 'waitin', 'waiting', 'wake', 'waking', 'wales', 'waliking', 'walk', 'walkabout', 'walked', 'walkin', 'walking', 'walks', 'wall', 'wallet', 'wallpaper', 'walls', 'walmart', 'walsall', 'wamma', 'wan', 'wana', 'wanna', 'wannatell', 'want', 'wanted', 'wanting', 'wants', 'wap', 'waqt', 'ward', 'warm', 'warming', 'warned', 'warner', 'warning', 'warranty', 'warwick', 'washob', 'wasnt', 'waste', 'wasted', 'wasting', 'wat', 'watch', 'watched', 'watches', 'watchin', 'watching', 'watchng', 'water', 'watershd', 'watever', 'watevr', 'wating', 'watr', 'wats', 'watts', 'wave', 'wavering', 'waves', 'waxsto', 'way', 'waz', 'wb', 'wc', 'weak', 'weakness', 'weaknesses', 'weapon', 'wear', 'wearing', 'weaseling', 'weasels', 'weather', 'web', 'webadres', 'webeburnin', 'webpage', 'website', 'wed', 'weddin', 'wedding', 'weddingfriend', 'wedlunch', 'wednesday', 'weds', 'wee', 'weed', 'week', 'weekdays', 'weekend', 'weekends', 'weekly', 'weeks', 'weigh', 'weighed', 'weight', 'weightloss', 'weird', 'weirdest', 'weirdo', 'weirdy', 'weiyi', 'welcome', 'welcomes', 'well', 'wellda', 'welp', 'wen', 'wendy', 'wenever', 'went', 'wenwecan', 'wer', 'werebored', 'werethe', 'wesley', 'wesleys', 'west', 'western', 'westlife', 'westonzoyland', 'westshore', 'wet', 'wetherspoons', 'wewa', 'whassup', 'whatever', 'whats', 'whatsup', 'wheat', 'wheel', 'wheellock', 'whenever', 'whenevr', 'whens', 'whereare', 'wherever', 'wherevr', 'wherre', 'whether', 'whilltake', 'whispers', 'white', 'whn', 'whoever', 'whole', 'whore', 'whos', 'whose', 'whr', 'wi', 'wicked', 'wicket', 'wicklow', 'wid', 'widelive', 'wif', 'wife', 'wifi', 'wihtuot', 'wikipedia', 'wil', 'wild', 'wildest', 'willing', 'win', 'winaweek', 'winawk', 'wind', 'window', 'windows', 'winds', 'windy', 'wine', 'wined', 'wings', 'wining', 'winner', 'winnersclub', 'winning', 'wins', 'winterstone', 'wipe', 'wipro', 'wire', 'wisdom', 'wise', 'wish', 'wisheds', 'wishes', 'wishin', 'wishing', 'wishlist', 'wiskey', 'wit', 'withdraw', 'wither', 'within', 'without', 'witin', 'witot', 'witout', 'wiv', 'wizzle', 'wk', 'wkend', 'wkent', 'wkg', 'wkly', 'wknd', 'wks', 'wlcome', 'wld', 'wml', 'wn', 'wnevr', 'wnt', 'wo', 'woah', 'wocay', 'woke', 'woken', 'woman', 'womdarfull', 'women', 'wondar', 'wondarfull', 'wonder', 'wonderful', 'wondering', 'wonders', 'wont', 'woo', 'woodland', 'woods', 'woohoo', 'woot', 'woould', 'woozles', 'worc', 'word', 'words', 'work', 'workage', 'workand', 'workin', 'working', 'workout', 'works', 'world', 'worlds', 'worms', 'worried', 'worries', 'worry', 'worrying', 'worse', 'worst', 'worth', 'worthless', 'worzels', 'wot', 'wotu', 'wotz', 'woul', 'would', 'woulda', 'wounds', 'wow', 'wp', 'wq', 'wr', 'wrc', 'wrd', 'wrecked', 'wrench', 'wrenching', 'wright', 'write', 'writhing', 'wrk', 'wrkin', 'wrking', 'wrks', 'wrld', 'wrnog', 'wrong', 'wrongly', 'wrote', 'ws', 'wt', 'wtc', 'wtf', 'wth', 'wthout', 'wtlp', 'wu', 'wud', 'wudn', 'wuld', 'wuldnt', 'wun', 'wv', 'www', 'wx', 'wylie', 'xafter', 'xam', 'xavier', 'xchat', 'xclusive', 'xe', 'xh', 'xin', 'xmas', 'xn', 'xoxo', 'xt', 'xuhui', 'xx', 'xxsp', 'xxx', 'xxxmobilemovieclub', 'xxxx', 'xxxxx', 'xxxxxx', 'xxxxxxx', 'xxxxxxxxx', 'xxxxxxxxxxxxxx', 'xy', 'ya', 'yah', 'yahoo', 'yalrigu', 'yalru', 'yan', 'yar', 'yarasu', 'yards', 'yavnt', 'yaxx', 'yaxxx', 'yay', 'yck', 'yeah', 'year', 'years', 'yeesh', 'yeh', 'yelling', 'yellow', 'yelow', 'yen', 'yeovil', 'yep', 'yer', 'yes', 'yest', 'yesterday', 'yet', 'yetty', 'yetunde', 'yf', 'yhl', 'yi', 'yifeng', 'yijue', 'ym', 'ymca', 'yo', 'yoga', 'yogasana', 'yor', 'yorge', 'youdoing', 'youi', 'young', 'younger', 'youphone', 'youre', 'yourinclusive', 'yourjob', 'youuuuu', 'youwanna', 'yoville', 'yowifes', 'yoyyooo', 'yr', 'yrs', 'ystrday', 'yt', 'ything', 'yummmm', 'yummy', 'yun', 'yunny', 'yuo', 'yuou', 'yup', 'yupz', 'zac', 'zaher', 'zealand', 'zebra', 'zed', 'zeros', 'zf', 'zhong', 'zindgi', 'zoe', 'zogtorius', 'zoom', 'zouk']\n"
     ]
    }
   ],
   "source": [
    "vocab = vectorizer.get_feature_names()\n",
    "print(vocab) # Grand document, attention"
   ]
  },
  {
   "cell_type": "code",
   "execution_count": 24,
   "metadata": {},
   "outputs": [
    {
     "name": "stdout",
     "output_type": "stream",
     "text": [
      "Training the random forest...\n",
      "1.0\n"
     ]
    }
   ],
   "source": [
    "print(\"Training the random forest...\")\n",
    "from sklearn.ensemble import RandomForestClassifier\n",
    "\n",
    "# Initialize a Random Forest classifier with 100 trees\n",
    "forest = RandomForestClassifier(n_estimators = 100) \n",
    "\n",
    "# Fit the forest to the training set, using the bag of words as features and the sentiment labels as the response variable\n",
    "# This may take a few minutes to run\n",
    "forest.fit(train_data_features, train[\"class\"])\n",
    "print(forest.score(train_data_features, train[\"class\"]))"
   ]
  },
  {
   "cell_type": "code",
   "execution_count": null,
   "metadata": {
    "collapsed": true
   },
   "outputs": [],
   "source": [
    "from sklearn.model_selection import cross_val_score, KFold\n",
    "from sklearn.metrics import roc_auc_score, average_precision_score\n",
    "import time\n",
    "\n",
    "def runClassifiers(clfs, X, Y) :\n",
    "    kf = KFold(n_splits=10, shuffle=True, random_state=0)\n",
    "    kf2 = KFold(n_splits=5, shuffle=True, random_state=0)\n",
    "    for i in clfs:\n",
    "        t0 = time.time()\n",
    "        clf = clfs[i] #clf correspond au ième algorithme dans le dictionnaire clfs.\n",
    "        cv_acc = cross_val_score(clf, X_clean, Y_clean, cv=kf )                     #\n",
    "        cv_auc = cross_val_score(clf, X_clean, Y_clean, cv=kf, scoring='roc_auc')   # voir http://scikit-learn.org/stable/modules/model_evaluation.html\n",
    "        cv_prec = cross_val_score(clf, X_clean, Y_clean, cv=kf, scoring='precision')#\n",
    "        cv_prec5 = cross_val_score(clf, X_clean, Y_clean, cv=kf2, scoring='precision')#\n",
    "        print(\"estimations par validation croisée 10 fold de {0} :\".format(i))\n",
    "        print(\"Taux biens classés = {1:.3f} +/- {2:.3f}\".format(i, np.mean(cv_acc), np.std(cv_acc)))\n",
    "        print(\"AUC = {1:.3f} +/- {2:.3f}\".format(i, np.mean(cv_auc), np.std(cv_auc)))\n",
    "        print(\"Précision = {1:.3f} +/- {2:.3f}\".format(i, np.mean(cv_prec), np.std(cv_prec)))\n",
    "        print(\"Précision (5 fold) = {1:.3f} +/- {2:.3f}\".format(i, np.mean(cv_prec5), np.std(cv_prec5)))\n",
    "        print(\"Temps d'exécution = {0:.3f} secondes\".format(time.time() - t0))\n",
    "        print('\\n')"
   ]
  }
 ],
 "metadata": {
  "kernelspec": {
   "display_name": "Python 3",
   "language": "python",
   "name": "python3"
  },
  "language_info": {
   "codemirror_mode": {
    "name": "ipython",
    "version": 3
   },
   "file_extension": ".py",
   "mimetype": "text/x-python",
   "name": "python",
   "nbconvert_exporter": "python",
   "pygments_lexer": "ipython3",
   "version": "3.6.3"
  }
 },
 "nbformat": 4,
 "nbformat_minor": 2
}
