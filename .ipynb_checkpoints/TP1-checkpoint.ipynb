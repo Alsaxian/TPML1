{
 "cells": [
  {
   "cell_type": "code",
   "execution_count": 1,
   "metadata": {
    "collapsed": true
   },
   "outputs": [],
   "source": [
    "# If we are not using Jupyter Notebook, don't take into account the two following lines.\n",
    "from IPython.core.interactiveshell import InteractiveShell\n",
    "InteractiveShell.ast_node_interactivity = \"all\"\n",
    "\n",
    "# Make sure we have the pandas library previously installed.\n",
    "import pandas as pd\n",
    "import numpy as np\n",
    "import seaborn as sns\n",
    "import matplotlib.pyplot as plt\n",
    "%matplotlib inline"
   ]
  },
  {
   "cell_type": "code",
   "execution_count": 2,
   "metadata": {},
   "outputs": [
    {
     "data": {
      "text/html": [
       "<div>\n",
       "<style>\n",
       "    .dataframe thead tr:only-child th {\n",
       "        text-align: right;\n",
       "    }\n",
       "\n",
       "    .dataframe thead th {\n",
       "        text-align: left;\n",
       "    }\n",
       "\n",
       "    .dataframe tbody tr th {\n",
       "        vertical-align: top;\n",
       "    }\n",
       "</style>\n",
       "<table border=\"1\" class=\"dataframe\">\n",
       "  <thead>\n",
       "    <tr style=\"text-align: right;\">\n",
       "      <th></th>\n",
       "      <th>Hotel</th>\n",
       "      <th>janv</th>\n",
       "      <th>fev</th>\n",
       "      <th>mars</th>\n",
       "      <th>avril</th>\n",
       "      <th>mai</th>\n",
       "      <th>juin</th>\n",
       "      <th>juil</th>\n",
       "      <th>aout</th>\n",
       "      <th>sept</th>\n",
       "      <th>oct</th>\n",
       "      <th>nov</th>\n",
       "      <th>dec</th>\n",
       "    </tr>\n",
       "  </thead>\n",
       "  <tbody>\n",
       "    <tr>\n",
       "      <th>0</th>\n",
       "      <td>ajac</td>\n",
       "      <td>7.7</td>\n",
       "      <td>8.7</td>\n",
       "      <td>10.5</td>\n",
       "      <td>12.6</td>\n",
       "      <td>15.9</td>\n",
       "      <td>19.8</td>\n",
       "      <td>22.0</td>\n",
       "      <td>22.2</td>\n",
       "      <td>20.3</td>\n",
       "      <td>16.3</td>\n",
       "      <td>11.8</td>\n",
       "      <td>8.7</td>\n",
       "    </tr>\n",
       "    <tr>\n",
       "      <th>1</th>\n",
       "      <td>ange</td>\n",
       "      <td>4.2</td>\n",
       "      <td>4.9</td>\n",
       "      <td>7.9</td>\n",
       "      <td>10.4</td>\n",
       "      <td>13.6</td>\n",
       "      <td>17.0</td>\n",
       "      <td>18.7</td>\n",
       "      <td>18.4</td>\n",
       "      <td>16.1</td>\n",
       "      <td>11.7</td>\n",
       "      <td>7.6</td>\n",
       "      <td>4.9</td>\n",
       "    </tr>\n",
       "    <tr>\n",
       "      <th>2</th>\n",
       "      <td>ango</td>\n",
       "      <td>4.6</td>\n",
       "      <td>5.4</td>\n",
       "      <td>8.9</td>\n",
       "      <td>11.3</td>\n",
       "      <td>14.5</td>\n",
       "      <td>17.2</td>\n",
       "      <td>19.5</td>\n",
       "      <td>19.4</td>\n",
       "      <td>16.9</td>\n",
       "      <td>12.5</td>\n",
       "      <td>8.1</td>\n",
       "      <td>5.3</td>\n",
       "    </tr>\n",
       "    <tr>\n",
       "      <th>3</th>\n",
       "      <td>besa</td>\n",
       "      <td>1.1</td>\n",
       "      <td>2.2</td>\n",
       "      <td>6.4</td>\n",
       "      <td>9.7</td>\n",
       "      <td>13.6</td>\n",
       "      <td>16.9</td>\n",
       "      <td>18.7</td>\n",
       "      <td>18.3</td>\n",
       "      <td>15.5</td>\n",
       "      <td>10.4</td>\n",
       "      <td>5.7</td>\n",
       "      <td>2.0</td>\n",
       "    </tr>\n",
       "    <tr>\n",
       "      <th>4</th>\n",
       "      <td>biar</td>\n",
       "      <td>7.6</td>\n",
       "      <td>8.0</td>\n",
       "      <td>10.8</td>\n",
       "      <td>12.0</td>\n",
       "      <td>14.7</td>\n",
       "      <td>17.8</td>\n",
       "      <td>19.7</td>\n",
       "      <td>19.9</td>\n",
       "      <td>18.5</td>\n",
       "      <td>14.8</td>\n",
       "      <td>10.9</td>\n",
       "      <td>8.2</td>\n",
       "    </tr>\n",
       "  </tbody>\n",
       "</table>\n",
       "</div>"
      ],
      "text/plain": [
       "  Hotel  janv  fev  mars  avril   mai  juin  juil  aout  sept   oct   nov  dec\n",
       "0  ajac   7.7  8.7  10.5   12.6  15.9  19.8  22.0  22.2  20.3  16.3  11.8  8.7\n",
       "1  ange   4.2  4.9   7.9   10.4  13.6  17.0  18.7  18.4  16.1  11.7   7.6  4.9\n",
       "2  ango   4.6  5.4   8.9   11.3  14.5  17.2  19.5  19.4  16.9  12.5   8.1  5.3\n",
       "3  besa   1.1  2.2   6.4    9.7  13.6  16.9  18.7  18.3  15.5  10.4   5.7  2.0\n",
       "4  biar   7.6  8.0  10.8   12.0  14.7  17.8  19.7  19.9  18.5  14.8  10.9  8.2"
      ]
     },
     "execution_count": 2,
     "metadata": {},
     "output_type": "execute_result"
    }
   ],
   "source": [
    "dfVilles = pd.read_csv(\"villes.csv\", sep = \";\")\n",
    "dfVilles.head()"
   ]
  },
  {
   "cell_type": "markdown",
   "metadata": {},
   "source": [
    "En effet, la standardisation ici n'est pas nécessaire, puisque toutes les variables sont de "
   ]
  },
  {
   "cell_type": "code",
   "execution_count": 4,
   "metadata": {},
   "outputs": [
    {
     "data": {
      "text/plain": [
       "array([[  1.63835106e+00,   1.78748032e+00,   1.35686597e+00,\n",
       "          1.16748094e+00,   1.09413658e+00,   1.20813380e+00,\n",
       "          1.11734499e+00,   1.39767179e+00,   1.73963204e+00,\n",
       "          1.93208186e+00,   1.82836605e+00,   1.68024825e+00],\n",
       "       [  1.16831005e-01,   5.00094414e-02,  -1.28545198e-01,\n",
       "         -3.21480258e-01,  -5.29420924e-01,  -4.27044274e-01,\n",
       "         -5.23706902e-01,  -5.35853690e-01,  -4.11302147e-01,\n",
       "         -2.72588294e-01,  -1.26545622e-01,   4.96162692e-02],\n",
       "       [  2.90719011e-01,   2.78624031e-01,   4.42766792e-01,\n",
       "          2.87640231e-01,   1.05884185e-01,  -3.10245840e-01,\n",
       "         -1.25876140e-01,  -2.70311950e-02,  -1.60039746e-03,\n",
       "          1.10832603e-01,   1.06181959e-01,   2.21261741e-01],\n",
       "       [ -1.23080105e+00,  -1.18450934e+00,  -9.85513181e-01,\n",
       "         -7.95240638e-01,  -5.29420924e-01,  -4.85443491e-01,\n",
       "         -5.23706902e-01,  -5.86735939e-01,  -7.18578460e-01,\n",
       "         -8.95647251e-01,  -1.01091043e+00,  -1.19481340e+00],\n",
       "       [  1.59487906e+00,   1.46741990e+00,   1.52825957e+00,\n",
       "          7.61400611e-01,   2.47063098e-01,   4.01494616e-02,\n",
       "         -2.64184491e-02,   2.27380052e-01,   8.17803102e-01,\n",
       "          1.21316768e+00,   1.40945641e+00,   1.46569141e+00],\n",
       "       [  7.25439028e-01,   8.27299046e-01,   1.24260358e+00,\n",
       "          1.30284105e+00,   1.02354712e+00,   9.16137716e-01,\n",
       "          5.70327695e-01,   7.87084796e-01,   8.69015821e-01,\n",
       "          7.33891560e-01,   5.71637120e-01,   6.07464052e-01],\n",
       "       [  9.42799037e-01,   4.61515703e-01,  -1.85676396e-01,\n",
       "         -1.13364091e+00,  -1.94121006e+00,  -1.94542391e+00,\n",
       "         -2.06530111e+00,  -1.75702768e+00,  -1.12828021e+00,\n",
       "         -1.28805457e-01,   5.25091603e-01,   9.50754996e-01],\n",
       "       [ -5.78721023e-01,  -4.98665573e-01,  -3.57069993e-01,\n",
       "         -3.89160312e-01,  -3.88242011e-01,  -2.51846623e-01,\n",
       "         -1.75604985e-01,  -1.79677943e-01,  -3.60089429e-01,\n",
       "         -5.12226354e-01,  -5.92000783e-01,  -5.08231514e-01],\n",
       "       [ -1.14385704e+00,  -1.00161767e+00,  -6.99857187e-01,\n",
       "         -3.21480258e-01,  -3.52947283e-02,  -1.82497553e-02,\n",
       "         -7.61472944e-02,  -2.30560193e-01,  -5.13727585e-01,\n",
       "         -8.47719639e-01,  -1.01091043e+00,  -1.15190203e+00],\n",
       "       [ -1.49163306e+00,  -1.45884685e+00,  -1.38543157e+00,\n",
       "         -1.26900102e+00,  -9.52957664e-01,  -7.77439576e-01,\n",
       "         -4.24249212e-01,  -5.86735939e-01,  -8.21003897e-01,\n",
       "         -1.03943009e+00,  -1.52291110e+00,  -1.83848392e+00],\n",
       "       [ -1.05691304e+00,  -7.27280163e-01,  -2.42807595e-01,\n",
       "         -1.86120149e-01,   1.05884185e-01,   4.01494616e-02,\n",
       "          1.72496932e-01,   2.38510544e-02,  -1.04025835e-01,\n",
       "         -4.16371130e-01,  -6.38546299e-01,  -1.06607930e+00],\n",
       "       [ -6.65665026e-01,  -8.64448916e-01,  -1.21403798e+00,\n",
       "         -1.33668107e+00,  -1.37649440e+00,  -1.41983096e+00,\n",
       "         -1.31936843e+00,  -1.19732293e+00,  -1.12828021e+00,\n",
       "         -8.95647251e-01,  -8.24728363e-01,  -5.51142882e-01],\n",
       "       [ -3.61361014e-01,  -4.07219738e-01,  -4.14201192e-01,\n",
       "         -6.59880529e-01,  -7.41189294e-01,  -5.43842708e-01,\n",
       "         -6.72893438e-01,  -8.41147186e-01,  -8.21003897e-01,\n",
       "         -7.51864415e-01,  -5.45455267e-01,  -4.22408778e-01],\n",
       "       [ -7.96081031e-01,  -6.81557245e-01,  -2.42807595e-01,\n",
       "          1.69200136e-02,   3.88242011e-01,   4.48943980e-01,\n",
       "          4.70870004e-01,   3.29144551e-01,  -1.60039746e-03,\n",
       "         -4.16371130e-01,  -5.45455267e-01,  -7.22788354e-01],\n",
       "       [  6.81967027e-01,   8.27299046e-01,   1.07120998e+00,\n",
       "          1.43820115e+00,   1.72944169e+00,   1.79212597e+00,\n",
       "          1.76381998e+00,   1.70296529e+00,   1.53478116e+00,\n",
       "          1.30902290e+00,   1.08363780e+00,   9.07843628e-01],\n",
       "       [  7.25439028e-01,   8.73021964e-01,   1.01407878e+00,\n",
       "          1.30284105e+00,   1.30590495e+00,   1.38333145e+00,\n",
       "          1.46544691e+00,   1.44855404e+00,   1.22750485e+00,\n",
       "          1.11731246e+00,   9.90546764e-01,   7.36198156e-01],\n",
       "       [ -1.36121705e+00,  -1.45884685e+00,  -1.49969397e+00,\n",
       "         -1.13364091e+00,  -7.41189294e-01,  -7.19040359e-01,\n",
       "         -7.22622284e-01,  -8.92029436e-01,  -1.12828021e+00,\n",
       "         -1.37492337e+00,  -1.24363801e+00,  -1.28063614e+00],\n",
       "       [  4.64607018e-01,   2.32901113e-01,   1.57110797e-01,\n",
       "         -5.07600407e-02,  -3.17652555e-01,  -3.10245840e-01,\n",
       "         -4.73978057e-01,  -4.34089191e-01,  -2.57663991e-01,\n",
       "         -3.29502333e-02,   1.52727475e-01,   3.07084477e-01],\n",
       "       [  1.55140706e+00,   1.69603449e+00,   1.52825957e+00,\n",
       "          1.64124132e+00,   1.65885223e+00,   1.38333145e+00,\n",
       "          1.46544691e+00,   1.55031854e+00,   1.73963204e+00,\n",
       "          1.78829903e+00,   1.68872951e+00,   1.46569141e+00],\n",
       "       [  7.68911030e-01,   9.18744881e-01,   1.12834118e+00,\n",
       "          1.43820115e+00,   1.58826277e+00,   1.79212597e+00,\n",
       "          1.91300652e+00,   1.75384754e+00,   1.43235573e+00,\n",
       "          1.11731246e+00,   8.97455732e-01,   7.36198156e-01],\n",
       "       [ -5.35249021e-01,  -5.44388491e-01,  -6.99857187e-01,\n",
       "         -7.27560584e-01,  -6.70599837e-01,  -6.60641142e-01,\n",
       "         -6.72893438e-01,  -6.37618188e-01,  -6.67365741e-01,\n",
       "         -6.56009190e-01,  -5.92000783e-01,  -5.08231514e-01],\n",
       "       [ -2.30945009e-01,  -3.15773902e-01,  -2.99938794e-01,\n",
       "         -1.18440095e-01,  -3.52947283e-02,  -1.35048189e-01,\n",
       "         -3.24791521e-01,  -3.83206941e-01,  -4.62514866e-01,\n",
       "         -4.16371130e-01,  -3.59273202e-01,  -2.07851938e-01],\n",
       "       [  1.55140706e+00,   1.65031157e+00,   1.81391557e+00,\n",
       "          2.04732164e+00,   1.94121006e+00,   1.96732362e+00,\n",
       "          2.01246421e+00,   1.95737653e+00,   1.84205748e+00,\n",
       "          1.74037141e+00,   1.68872951e+00,   1.63733688e+00],\n",
       "       [ -8.83025034e-01,  -9.10171834e-01,  -1.09977558e+00,\n",
       "         -9.98280801e-01,  -7.41189294e-01,  -7.77439576e-01,\n",
       "         -7.22622284e-01,  -7.90264937e-01,  -9.23429334e-01,\n",
       "         -9.43574863e-01,  -8.24728363e-01,  -7.65699722e-01],\n",
       "       [  3.77663015e-01,   2.32901113e-01,  -1.28545198e-01,\n",
       "         -5.24520421e-01,  -8.82368207e-01,  -8.94238009e-01,\n",
       "         -9.21537665e-01,  -8.41147186e-01,  -6.16153022e-01,\n",
       "         -3.20515906e-01,  -3.34545897e-02,   2.64173109e-01],\n",
       "       [ -2.30945009e-01,  -4.07219738e-01,  -7.56988385e-01,\n",
       "         -9.30600747e-01,  -1.02354712e+00,  -1.18623409e+00,\n",
       "         -1.07072420e+00,  -1.14644068e+00,  -9.74642053e-01,\n",
       "         -6.08081578e-01,  -4.98909751e-01,  -2.07851938e-01],\n",
       "       [ -8.39553033e-01,  -8.64448916e-01,  -1.04264438e+00,\n",
       "         -1.13364091e+00,  -1.16472603e+00,  -1.24463331e+00,\n",
       "         -1.17018189e+00,  -1.04467618e+00,  -9.74642053e-01,\n",
       "         -8.47719639e-01,  -8.24728363e-01,  -7.22788354e-01],\n",
       "       [ -1.53510506e+00,  -1.50456977e+00,  -1.44256277e+00,\n",
       "         -7.27560584e-01,  -2.47063098e-01,  -3.10245840e-01,\n",
       "         -3.74520366e-01,  -5.86735939e-01,  -9.23429334e-01,\n",
       "         -1.32699576e+00,  -1.38327456e+00,  -1.49519298e+00],\n",
       "       [  2.02959908e+00,   1.97037199e+00,   1.75678437e+00,\n",
       "          1.70892137e+00,   1.58826277e+00,   1.44173067e+00,\n",
       "          1.41571807e+00,   1.49943629e+00,   1.84205748e+00,\n",
       "          2.02793709e+00,   2.20073018e+00,   2.10936193e+00],\n",
       "       [  3.34191013e-01,   3.70069867e-01,   6.14160388e-01,\n",
       "          4.90680394e-01,   3.88242011e-01,   5.65742414e-01,\n",
       "          5.70327695e-01,   7.36202547e-01,   7.15377665e-01,\n",
       "          4.94253500e-01,   3.38909539e-01,   3.07084477e-01],\n",
       "       [ -1.87473007e-01,  -1.78605148e-01,  -2.42807595e-01,\n",
       "         -1.86120149e-01,  -3.17652555e-01,  -1.93447406e-01,\n",
       "         -3.24791521e-01,  -3.83206941e-01,  -3.60089429e-01,\n",
       "         -2.72588294e-01,  -3.12727686e-01,  -2.07851938e-01],\n",
       "       [ -6.65665026e-01,  -6.35834327e-01,  -5.85594789e-01,\n",
       "         -6.59880529e-01,  -5.29420924e-01,  -3.68645057e-01,\n",
       "         -2.25333830e-01,  -3.32324692e-01,  -4.62514866e-01,\n",
       "         -6.08081578e-01,  -5.92000783e-01,  -5.94054250e-01]])"
      ]
     },
     "execution_count": 4,
     "metadata": {},
     "output_type": "execute_result"
    },
    {
     "data": {
      "text/html": [
       "<div>\n",
       "<style>\n",
       "    .dataframe thead tr:only-child th {\n",
       "        text-align: right;\n",
       "    }\n",
       "\n",
       "    .dataframe thead th {\n",
       "        text-align: left;\n",
       "    }\n",
       "\n",
       "    .dataframe tbody tr th {\n",
       "        vertical-align: top;\n",
       "    }\n",
       "</style>\n",
       "<table border=\"1\" class=\"dataframe\">\n",
       "  <thead>\n",
       "    <tr style=\"text-align: right;\">\n",
       "      <th></th>\n",
       "      <th>janv</th>\n",
       "      <th>fev</th>\n",
       "      <th>mars</th>\n",
       "      <th>avril</th>\n",
       "      <th>mai</th>\n",
       "      <th>juin</th>\n",
       "      <th>juil</th>\n",
       "      <th>aout</th>\n",
       "      <th>sept</th>\n",
       "      <th>oct</th>\n",
       "      <th>nov</th>\n",
       "      <th>dec</th>\n",
       "    </tr>\n",
       "    <tr>\n",
       "      <th>Hotel</th>\n",
       "      <th></th>\n",
       "      <th></th>\n",
       "      <th></th>\n",
       "      <th></th>\n",
       "      <th></th>\n",
       "      <th></th>\n",
       "      <th></th>\n",
       "      <th></th>\n",
       "      <th></th>\n",
       "      <th></th>\n",
       "      <th></th>\n",
       "      <th></th>\n",
       "    </tr>\n",
       "  </thead>\n",
       "  <tbody>\n",
       "    <tr>\n",
       "      <th>ajac</th>\n",
       "      <td>1.638351</td>\n",
       "      <td>1.787480</td>\n",
       "      <td>1.356866</td>\n",
       "      <td>1.167481</td>\n",
       "      <td>1.094137</td>\n",
       "      <td>1.208134</td>\n",
       "      <td>1.117345</td>\n",
       "      <td>1.397672</td>\n",
       "      <td>1.739632</td>\n",
       "      <td>1.932082</td>\n",
       "      <td>1.828366</td>\n",
       "      <td>1.680248</td>\n",
       "    </tr>\n",
       "    <tr>\n",
       "      <th>ange</th>\n",
       "      <td>0.116831</td>\n",
       "      <td>0.050009</td>\n",
       "      <td>-0.128545</td>\n",
       "      <td>-0.321480</td>\n",
       "      <td>-0.529421</td>\n",
       "      <td>-0.427044</td>\n",
       "      <td>-0.523707</td>\n",
       "      <td>-0.535854</td>\n",
       "      <td>-0.411302</td>\n",
       "      <td>-0.272588</td>\n",
       "      <td>-0.126546</td>\n",
       "      <td>0.049616</td>\n",
       "    </tr>\n",
       "    <tr>\n",
       "      <th>ango</th>\n",
       "      <td>0.290719</td>\n",
       "      <td>0.278624</td>\n",
       "      <td>0.442767</td>\n",
       "      <td>0.287640</td>\n",
       "      <td>0.105884</td>\n",
       "      <td>-0.310246</td>\n",
       "      <td>-0.125876</td>\n",
       "      <td>-0.027031</td>\n",
       "      <td>-0.001600</td>\n",
       "      <td>0.110833</td>\n",
       "      <td>0.106182</td>\n",
       "      <td>0.221262</td>\n",
       "    </tr>\n",
       "    <tr>\n",
       "      <th>besa</th>\n",
       "      <td>-1.230801</td>\n",
       "      <td>-1.184509</td>\n",
       "      <td>-0.985513</td>\n",
       "      <td>-0.795241</td>\n",
       "      <td>-0.529421</td>\n",
       "      <td>-0.485443</td>\n",
       "      <td>-0.523707</td>\n",
       "      <td>-0.586736</td>\n",
       "      <td>-0.718578</td>\n",
       "      <td>-0.895647</td>\n",
       "      <td>-1.010910</td>\n",
       "      <td>-1.194813</td>\n",
       "    </tr>\n",
       "    <tr>\n",
       "      <th>biar</th>\n",
       "      <td>1.594879</td>\n",
       "      <td>1.467420</td>\n",
       "      <td>1.528260</td>\n",
       "      <td>0.761401</td>\n",
       "      <td>0.247063</td>\n",
       "      <td>0.040149</td>\n",
       "      <td>-0.026418</td>\n",
       "      <td>0.227380</td>\n",
       "      <td>0.817803</td>\n",
       "      <td>1.213168</td>\n",
       "      <td>1.409456</td>\n",
       "      <td>1.465691</td>\n",
       "    </tr>\n",
       "  </tbody>\n",
       "</table>\n",
       "</div>"
      ],
      "text/plain": [
       "           janv       fev      mars     avril       mai      juin      juil  \\\n",
       "Hotel                                                                         \n",
       "ajac   1.638351  1.787480  1.356866  1.167481  1.094137  1.208134  1.117345   \n",
       "ange   0.116831  0.050009 -0.128545 -0.321480 -0.529421 -0.427044 -0.523707   \n",
       "ango   0.290719  0.278624  0.442767  0.287640  0.105884 -0.310246 -0.125876   \n",
       "besa  -1.230801 -1.184509 -0.985513 -0.795241 -0.529421 -0.485443 -0.523707   \n",
       "biar   1.594879  1.467420  1.528260  0.761401  0.247063  0.040149 -0.026418   \n",
       "\n",
       "           aout      sept       oct       nov       dec  \n",
       "Hotel                                                    \n",
       "ajac   1.397672  1.739632  1.932082  1.828366  1.680248  \n",
       "ange  -0.535854 -0.411302 -0.272588 -0.126546  0.049616  \n",
       "ango  -0.027031 -0.001600  0.110833  0.106182  0.221262  \n",
       "besa  -0.586736 -0.718578 -0.895647 -1.010910 -1.194813  \n",
       "biar   0.227380  0.817803  1.213168  1.409456  1.465691  "
      ]
     },
     "execution_count": 4,
     "metadata": {},
     "output_type": "execute_result"
    }
   ],
   "source": [
    "# dfVilles.set_index(\"Hotel\", inplace = True) # Run only once!\n",
    "\n",
    "from sklearn.preprocessing import StandardScaler\n",
    "scalerVilles = StandardScaler(copy = False)\n",
    "scalerVilles.fit_transform(dfVilles)\n",
    "dfVilles.head()"
   ]
  },
  {
   "cell_type": "code",
   "execution_count": 74,
   "metadata": {
    "scrolled": true
   },
   "outputs": [
    {
     "data": {
      "image/png": "[encoded data removed]",
      "text/plain": [
       "<matplotlib.figure.Figure at 0x1660fb909e8>"
      ]
     },
     "metadata": {},
     "output_type": "display_data"
    },
    {
     "data": {
      "image/png": "[encoded data removed]",
      "text/plain": [
       "<matplotlib.figure.Figure at 0x16610315ba8>"
      ]
     },
     "metadata": {},
     "output_type": "display_data"
    }
   ],
   "source": [
    "import prince\n",
    "### Everything doesn't work well. Help file incomplete.\n",
    "\n",
    "# dfVilles[\"colour\"] = \"1\"\n",
    "# dfVilles.head()\n",
    "princePCA = prince.PCA(dfVilles, n_components=3)\n",
    "fig1, ax1 = princePCA.plot_cumulative_inertia()\n",
    "# fig2, ax2 = princePCA.plot_rows(show_points=True, show_labels=True, color_by=\"colour\", ellipse_fill = False)\n",
    "fig3, ax3 = princePCA.plot_correlation_circle()\n",
    "plt.show()"
   ]
  },
  {
   "cell_type": "code",
   "execution_count": 5,
   "metadata": {},
   "outputs": [
    {
     "data": {
      "text/plain": [
       "array([ 0.87268193,  0.11720602,  0.00469563])"
      ]
     },
     "execution_count": 5,
     "metadata": {},
     "output_type": "execute_result"
    },
    {
     "data": {
      "text/plain": [
       "<matplotlib.collections.PathCollection at 0x2c3488309e8>"
      ]
     },
     "execution_count": 5,
     "metadata": {},
     "output_type": "execute_result"
    },
    {
     "data": {
      "text/plain": [
       "<matplotlib.text.Annotation at 0x2c3488411d0>"
      ]
     },
     "execution_count": 5,
     "metadata": {},
     "output_type": "execute_result"
    },
    {
     "data": {
      "text/plain": [
       "<matplotlib.text.Annotation at 0x2c348841748>"
      ]
     },
     "execution_count": 5,
     "metadata": {},
     "output_type": "execute_result"
    },
    {
     "data": {
      "text/plain": [
       "<matplotlib.text.Annotation at 0x2c3488415c0>"
      ]
     },
     "execution_count": 5,
     "metadata": {},
     "output_type": "execute_result"
    },
    {
     "data": {
      "text/plain": [
       "<matplotlib.text.Annotation at 0x2c3488417b8>"
      ]
     },
     "execution_count": 5,
     "metadata": {},
     "output_type": "execute_result"
    },
    {
     "data": {
      "text/plain": [
       "<matplotlib.text.Annotation at 0x2c348841860>"
      ]
     },
     "execution_count": 5,
     "metadata": {},
     "output_type": "execute_result"
    },
    {
     "data": {
      "text/plain": [
       "<matplotlib.text.Annotation at 0x2c3488419e8>"
      ]
     },
     "execution_count": 5,
     "metadata": {},
     "output_type": "execute_result"
    },
    {
     "data": {
      "text/plain": [
       "<matplotlib.text.Annotation at 0x2c348841b38>"
      ]
     },
     "execution_count": 5,
     "metadata": {},
     "output_type": "execute_result"
    },
    {
     "data": {
      "text/plain": [
       "<matplotlib.text.Annotation at 0x2c348841c88>"
      ]
     },
     "execution_count": 5,
     "metadata": {},
     "output_type": "execute_result"
    },
    {
     "data": {
      "text/plain": [
       "<matplotlib.text.Annotation at 0x2c348841ef0>"
      ]
     },
     "execution_count": 5,
     "metadata": {},
     "output_type": "execute_result"
    },
    {
     "data": {
      "text/plain": [
       "<matplotlib.text.Annotation at 0x2c3472dada0>"
      ]
     },
     "execution_count": 5,
     "metadata": {},
     "output_type": "execute_result"
    },
    {
     "data": {
      "text/plain": [
       "<matplotlib.text.Annotation at 0x2c3487f7d68>"
      ]
     },
     "execution_count": 5,
     "metadata": {},
     "output_type": "execute_result"
    },
    {
     "data": {
      "text/plain": [
       "<matplotlib.text.Annotation at 0x2c3487f7a58>"
      ]
     },
     "execution_count": 5,
     "metadata": {},
     "output_type": "execute_result"
    },
    {
     "data": {
      "text/plain": [
       "<matplotlib.text.Annotation at 0x2c3487f77b8>"
      ]
     },
     "execution_count": 5,
     "metadata": {},
     "output_type": "execute_result"
    },
    {
     "data": {
      "text/plain": [
       "<matplotlib.text.Annotation at 0x2c3487f7278>"
      ]
     },
     "execution_count": 5,
     "metadata": {},
     "output_type": "execute_result"
    },
    {
     "data": {
      "text/plain": [
       "<matplotlib.text.Annotation at 0x2c3487f0908>"
      ]
     },
     "execution_count": 5,
     "metadata": {},
     "output_type": "execute_result"
    },
    {
     "data": {
      "text/plain": [
       "<matplotlib.text.Annotation at 0x2c3487f0630>"
      ]
     },
     "execution_count": 5,
     "metadata": {},
     "output_type": "execute_result"
    },
    {
     "data": {
      "text/plain": [
       "<matplotlib.text.Annotation at 0x2c3487f02e8>"
      ]
     },
     "execution_count": 5,
     "metadata": {},
     "output_type": "execute_result"
    },
    {
     "data": {
      "text/plain": [
       "<matplotlib.text.Annotation at 0x2c3487f01d0>"
      ]
     },
     "execution_count": 5,
     "metadata": {},
     "output_type": "execute_result"
    },
    {
     "data": {
      "text/plain": [
       "<matplotlib.text.Annotation at 0x2c3487ea7f0>"
      ]
     },
     "execution_count": 5,
     "metadata": {},
     "output_type": "execute_result"
    },
    {
     "data": {
      "text/plain": [
       "<matplotlib.text.Annotation at 0x2c3487ea780>"
      ]
     },
     "execution_count": 5,
     "metadata": {},
     "output_type": "execute_result"
    },
    {
     "data": {
      "text/plain": [
       "<matplotlib.text.Annotation at 0x2c3487ea518>"
      ]
     },
     "execution_count": 5,
     "metadata": {},
     "output_type": "execute_result"
    },
    {
     "data": {
      "text/plain": [
       "<matplotlib.text.Annotation at 0x2c348841fd0>"
      ]
     },
     "execution_count": 5,
     "metadata": {},
     "output_type": "execute_result"
    },
    {
     "data": {
      "text/plain": [
       "<matplotlib.text.Annotation at 0x2c3487e1f60>"
      ]
     },
     "execution_count": 5,
     "metadata": {},
     "output_type": "execute_result"
    },
    {
     "data": {
      "text/plain": [
       "<matplotlib.text.Annotation at 0x2c3487e1d30>"
      ]
     },
     "execution_count": 5,
     "metadata": {},
     "output_type": "execute_result"
    },
    {
     "data": {
      "text/plain": [
       "<matplotlib.text.Annotation at 0x2c3487e1240>"
      ]
     },
     "execution_count": 5,
     "metadata": {},
     "output_type": "execute_result"
    },
    {
     "data": {
      "text/plain": [
       "<matplotlib.text.Annotation at 0x2c3487d30f0>"
      ]
     },
     "execution_count": 5,
     "metadata": {},
     "output_type": "execute_result"
    },
    {
     "data": {
      "text/plain": [
       "<matplotlib.text.Annotation at 0x2c3487d3908>"
      ]
     },
     "execution_count": 5,
     "metadata": {},
     "output_type": "execute_result"
    },
    {
     "data": {
      "text/plain": [
       "<matplotlib.text.Annotation at 0x2c3487dbda0>"
      ]
     },
     "execution_count": 5,
     "metadata": {},
     "output_type": "execute_result"
    },
    {
     "data": {
      "text/plain": [
       "<matplotlib.text.Annotation at 0x2c3487dbb00>"
      ]
     },
     "execution_count": 5,
     "metadata": {},
     "output_type": "execute_result"
    },
    {
     "data": {
      "text/plain": [
       "<matplotlib.text.Annotation at 0x2c3487db550>"
      ]
     },
     "execution_count": 5,
     "metadata": {},
     "output_type": "execute_result"
    },
    {
     "data": {
      "text/plain": [
       "<matplotlib.text.Annotation at 0x2c3487db860>"
      ]
     },
     "execution_count": 5,
     "metadata": {},
     "output_type": "execute_result"
    },
    {
     "data": {
      "text/plain": [
       "<matplotlib.text.Annotation at 0x2c3487dbcc0>"
      ]
     },
     "execution_count": 5,
     "metadata": {},
     "output_type": "execute_result"
    },
    {
     "data": {
      "image/png": "[encoded data removed]",
      "text/plain": [
       "<matplotlib.figure.Figure at 0x2c347147048>"
      ]
     },
     "metadata": {},
     "output_type": "display_data"
    }
   ],
   "source": [
    "from sklearn.decomposition import PCA\n",
    "pcaVilles = PCA(n_components = 3)\n",
    "dfVillesTransformees = pcaVilles.fit_transform(dfVilles)\n",
    "pcaVilles.explained_variance_ratio_\n",
    "\n",
    "plt.scatter(dfVillesTransformees[:,0], dfVillesTransformees[:,1])\n",
    "for label, x, y in zip(dfVilles.index, dfVillesTransformees[:,0], dfVillesTransformees[:,1]):\n",
    "    plt.annotate(label, xy=(x, y), xytext=(-0.2, 0.2), textcoords='offset points')\n",
    "plt.show()"
   ]
  },
  {
   "cell_type": "code",
   "execution_count": 8,
   "metadata": {},
   "outputs": [
    {
     "data": {
      "text/html": [
       "<div>\n",
       "<style>\n",
       "    .dataframe thead tr:only-child th {\n",
       "        text-align: right;\n",
       "    }\n",
       "\n",
       "    .dataframe thead th {\n",
       "        text-align: left;\n",
       "    }\n",
       "\n",
       "    .dataframe tbody tr th {\n",
       "        vertical-align: top;\n",
       "    }\n",
       "</style>\n",
       "<table border=\"1\" class=\"dataframe\">\n",
       "  <thead>\n",
       "    <tr style=\"text-align: right;\">\n",
       "      <th></th>\n",
       "      <th>Meutre</th>\n",
       "      <th>Rapt</th>\n",
       "      <th>Vol</th>\n",
       "      <th>Attaque</th>\n",
       "      <th>Viol</th>\n",
       "      <th>Larcin</th>\n",
       "      <th>Auto_Theft</th>\n",
       "    </tr>\n",
       "    <tr>\n",
       "      <th>Etat</th>\n",
       "      <th></th>\n",
       "      <th></th>\n",
       "      <th></th>\n",
       "      <th></th>\n",
       "      <th></th>\n",
       "      <th></th>\n",
       "      <th></th>\n",
       "    </tr>\n",
       "  </thead>\n",
       "  <tbody>\n",
       "    <tr>\n",
       "      <th>Alabama</th>\n",
       "      <td>14.2</td>\n",
       "      <td>25.2</td>\n",
       "      <td>96.8</td>\n",
       "      <td>278.3</td>\n",
       "      <td>1135.5</td>\n",
       "      <td>1881.9</td>\n",
       "      <td>280.7</td>\n",
       "    </tr>\n",
       "    <tr>\n",
       "      <th>Alaska</th>\n",
       "      <td>10.8</td>\n",
       "      <td>51.6</td>\n",
       "      <td>96.8</td>\n",
       "      <td>284.0</td>\n",
       "      <td>1331.7</td>\n",
       "      <td>3369.8</td>\n",
       "      <td>753.3</td>\n",
       "    </tr>\n",
       "    <tr>\n",
       "      <th>Arizona</th>\n",
       "      <td>9.5</td>\n",
       "      <td>34.2</td>\n",
       "      <td>138.2</td>\n",
       "      <td>312.3</td>\n",
       "      <td>2346.1</td>\n",
       "      <td>4467.4</td>\n",
       "      <td>439.5</td>\n",
       "    </tr>\n",
       "    <tr>\n",
       "      <th>Arkansas</th>\n",
       "      <td>8.8</td>\n",
       "      <td>27.6</td>\n",
       "      <td>83.2</td>\n",
       "      <td>203.4</td>\n",
       "      <td>972.6</td>\n",
       "      <td>1862.1</td>\n",
       "      <td>183.4</td>\n",
       "    </tr>\n",
       "    <tr>\n",
       "      <th>California</th>\n",
       "      <td>11.5</td>\n",
       "      <td>49.4</td>\n",
       "      <td>287.0</td>\n",
       "      <td>358.0</td>\n",
       "      <td>2139.4</td>\n",
       "      <td>3499.8</td>\n",
       "      <td>663.5</td>\n",
       "    </tr>\n",
       "  </tbody>\n",
       "</table>\n",
       "</div>"
      ],
      "text/plain": [
       "            Meutre  Rapt    Vol  Attaque    Viol  Larcin  Auto_Theft\n",
       "Etat                                                                \n",
       "Alabama       14.2  25.2   96.8    278.3  1135.5  1881.9       280.7\n",
       "Alaska        10.8  51.6   96.8    284.0  1331.7  3369.8       753.3\n",
       "Arizona        9.5  34.2  138.2    312.3  2346.1  4467.4       439.5\n",
       "Arkansas       8.8  27.6   83.2    203.4   972.6  1862.1       183.4\n",
       "California    11.5  49.4  287.0    358.0  2139.4  3499.8       663.5"
      ]
     },
     "execution_count": 8,
     "metadata": {},
     "output_type": "execute_result"
    }
   ],
   "source": [
    "dfCrimes = pd.read_csv(\"crime.csv\", sep = \";\", index_col = 0)\n",
    "dfCrimes.head()\n"
   ]
  },
  {
   "cell_type": "code",
   "execution_count": 10,
   "metadata": {},
   "outputs": [
    {
     "data": {
      "text/plain": [
       "array([2, 1, 1, 2, 1, 1, 0, 1, 1, 2, 1, 0, 2, 2, 0, 2, 2, 2, 0, 1, 1, 1, 0,\n",
       "       2, 2, 0, 0, 1, 0, 2, 2, 1, 2, 0, 2, 2, 1, 0, 0, 2, 0, 2, 2, 0, 0, 2,\n",
       "       1, 0, 0, 0])"
      ]
     },
     "execution_count": 10,
     "metadata": {},
     "output_type": "execute_result"
    },
    {
     "data": {
      "text/plain": [
       "array([[-1.98867383,  0.55080858, -0.09559769],\n",
       "       [ 2.42882769,  0.6265287 , -0.13530858],\n",
       "       [-0.01032277, -0.95448146,  0.18523583]])"
      ]
     },
     "execution_count": 10,
     "metadata": {},
     "output_type": "execute_result"
    },
    {
     "data": {
      "text/plain": [
       "array([ 0.58785136,  0.76481162,  0.86849971])"
      ]
     },
     "execution_count": 10,
     "metadata": {},
     "output_type": "execute_result"
    },
    {
     "data": {
      "text/html": [
       "<div>\n",
       "<style>\n",
       "    .dataframe thead tr:only-child th {\n",
       "        text-align: right;\n",
       "    }\n",
       "\n",
       "    .dataframe thead th {\n",
       "        text-align: left;\n",
       "    }\n",
       "\n",
       "    .dataframe tbody tr th {\n",
       "        vertical-align: top;\n",
       "    }\n",
       "</style>\n",
       "<table border=\"1\" class=\"dataframe\">\n",
       "  <thead>\n",
       "    <tr style=\"text-align: right;\">\n",
       "      <th></th>\n",
       "      <th>Meutre</th>\n",
       "      <th>Rapt</th>\n",
       "      <th>Vol</th>\n",
       "      <th>Attaque</th>\n",
       "      <th>Viol</th>\n",
       "      <th>Larcin</th>\n",
       "      <th>Auto_Theft</th>\n",
       "    </tr>\n",
       "    <tr>\n",
       "      <th>Etat</th>\n",
       "      <th></th>\n",
       "      <th></th>\n",
       "      <th></th>\n",
       "      <th></th>\n",
       "      <th></th>\n",
       "      <th></th>\n",
       "      <th></th>\n",
       "    </tr>\n",
       "  </thead>\n",
       "  <tbody>\n",
       "    <tr>\n",
       "      <th>Alabama</th>\n",
       "      <td>1.764934</td>\n",
       "      <td>-0.050134</td>\n",
       "      <td>-0.312049</td>\n",
       "      <td>0.675094</td>\n",
       "      <td>-0.365337</td>\n",
       "      <td>-1.098488</td>\n",
       "      <td>-0.505749</td>\n",
       "    </tr>\n",
       "    <tr>\n",
       "      <th>Alaska</th>\n",
       "      <td>0.876720</td>\n",
       "      <td>2.428393</td>\n",
       "      <td>-0.312049</td>\n",
       "      <td>0.732527</td>\n",
       "      <td>0.092958</td>\n",
       "      <td>0.972028</td>\n",
       "      <td>1.962772</td>\n",
       "    </tr>\n",
       "    <tr>\n",
       "      <th>Arizona</th>\n",
       "      <td>0.537108</td>\n",
       "      <td>0.794818</td>\n",
       "      <td>0.161307</td>\n",
       "      <td>1.017679</td>\n",
       "      <td>2.462446</td>\n",
       "      <td>2.499415</td>\n",
       "      <td>0.323707</td>\n",
       "    </tr>\n",
       "    <tr>\n",
       "      <th>Arkansas</th>\n",
       "      <td>0.354241</td>\n",
       "      <td>0.175187</td>\n",
       "      <td>-0.467548</td>\n",
       "      <td>-0.079601</td>\n",
       "      <td>-0.745847</td>\n",
       "      <td>-1.126041</td>\n",
       "      <td>-1.013974</td>\n",
       "    </tr>\n",
       "    <tr>\n",
       "      <th>California</th>\n",
       "      <td>1.059587</td>\n",
       "      <td>2.221849</td>\n",
       "      <td>1.862644</td>\n",
       "      <td>1.478153</td>\n",
       "      <td>1.979625</td>\n",
       "      <td>1.152932</td>\n",
       "      <td>1.493721</td>\n",
       "    </tr>\n",
       "    <tr>\n",
       "      <th>Colorado</th>\n",
       "      <td>-0.298858</td>\n",
       "      <td>1.527110</td>\n",
       "      <td>0.532903</td>\n",
       "      <td>0.822204</td>\n",
       "      <td>1.502644</td>\n",
       "      <td>1.714291</td>\n",
       "      <td>0.520103</td>\n",
       "    </tr>\n",
       "    <tr>\n",
       "      <th>Connecticut</th>\n",
       "      <td>-0.847461</td>\n",
       "      <td>-0.838756</td>\n",
       "      <td>0.061834</td>\n",
       "      <td>-0.801044</td>\n",
       "      <td>0.126360</td>\n",
       "      <td>-0.070397</td>\n",
       "      <td>1.126525</td>\n",
       "    </tr>\n",
       "    <tr>\n",
       "      <th>Delaware</th>\n",
       "      <td>-0.377230</td>\n",
       "      <td>-0.078299</td>\n",
       "      <td>0.376261</td>\n",
       "      <td>-0.172300</td>\n",
       "      <td>0.912608</td>\n",
       "      <td>1.401467</td>\n",
       "      <td>0.467347</td>\n",
       "    </tr>\n",
       "    <tr>\n",
       "      <th>Florida</th>\n",
       "      <td>0.719976</td>\n",
       "      <td>1.301790</td>\n",
       "      <td>0.729563</td>\n",
       "      <td>2.396079</td>\n",
       "      <td>1.326755</td>\n",
       "      <td>1.627040</td>\n",
       "      <td>-0.136463</td>\n",
       "    </tr>\n",
       "    <tr>\n",
       "      <th>Georgia</th>\n",
       "      <td>1.111835</td>\n",
       "      <td>0.503779</td>\n",
       "      <td>0.187604</td>\n",
       "      <td>0.455436</td>\n",
       "      <td>0.138273</td>\n",
       "      <td>-0.697299</td>\n",
       "      <td>-0.415909</td>\n",
       "    </tr>\n",
       "    <tr>\n",
       "      <th>Hawaii</th>\n",
       "      <td>-0.063742</td>\n",
       "      <td>-0.021969</td>\n",
       "      <td>0.044683</td>\n",
       "      <td>-1.483191</td>\n",
       "      <td>1.447285</td>\n",
       "      <td>1.738226</td>\n",
       "      <td>0.584349</td>\n",
       "    </tr>\n",
       "    <tr>\n",
       "      <th>Idaho</th>\n",
       "      <td>-0.507849</td>\n",
       "      <td>-0.594659</td>\n",
       "      <td>-0.966058</td>\n",
       "      <td>-0.390950</td>\n",
       "      <td>-0.563183</td>\n",
       "      <td>-0.099759</td>\n",
       "      <td>-0.730872</td>\n",
       "    </tr>\n",
       "    <tr>\n",
       "      <th>Illinois</th>\n",
       "      <td>0.641604</td>\n",
       "      <td>-0.369338</td>\n",
       "      <td>0.997112</td>\n",
       "      <td>-0.023175</td>\n",
       "      <td>-0.483297</td>\n",
       "      <td>0.218771</td>\n",
       "      <td>0.789101</td>\n",
       "    </tr>\n",
       "    <tr>\n",
       "      <th>Indiana</th>\n",
       "      <td>-0.011495</td>\n",
       "      <td>0.071915</td>\n",
       "      <td>-0.010199</td>\n",
       "      <td>-0.582394</td>\n",
       "      <td>-0.480494</td>\n",
       "      <td>-0.240168</td>\n",
       "      <td>-0.000658</td>\n",
       "    </tr>\n",
       "    <tr>\n",
       "      <th>Iowa</th>\n",
       "      <td>-1.343816</td>\n",
       "      <td>-1.420834</td>\n",
       "      <td>-0.947764</td>\n",
       "      <td>-1.224237</td>\n",
       "      <td>-1.119817</td>\n",
       "      <td>0.019220</td>\n",
       "      <td>-0.823324</td>\n",
       "    </tr>\n",
       "    <tr>\n",
       "      <th>Kansas</th>\n",
       "      <td>-0.220486</td>\n",
       "      <td>-0.350561</td>\n",
       "      <td>-0.267458</td>\n",
       "      <td>-0.310342</td>\n",
       "      <td>-0.050230</td>\n",
       "      <td>0.094643</td>\n",
       "      <td>-0.695876</td>\n",
       "    </tr>\n",
       "    <tr>\n",
       "      <th>Kentucky</th>\n",
       "      <td>0.693852</td>\n",
       "      <td>-0.622824</td>\n",
       "      <td>-0.491558</td>\n",
       "      <td>-0.886690</td>\n",
       "      <td>-0.980366</td>\n",
       "      <td>-1.404355</td>\n",
       "      <td>-0.690131</td>\n",
       "    </tr>\n",
       "    <tr>\n",
       "      <th>Louisiana</th>\n",
       "      <td>2.104545</td>\n",
       "      <td>0.485003</td>\n",
       "      <td>0.215045</td>\n",
       "      <td>1.251443</td>\n",
       "      <td>-0.295261</td>\n",
       "      <td>-0.280245</td>\n",
       "      <td>-0.208022</td>\n",
       "    </tr>\n",
       "    <tr>\n",
       "      <th>Maine</th>\n",
       "      <td>-1.317692</td>\n",
       "      <td>-1.148572</td>\n",
       "      <td>-0.976348</td>\n",
       "      <td>-0.416140</td>\n",
       "      <td>-0.090640</td>\n",
       "      <td>-0.446121</td>\n",
       "      <td>-0.682296</td>\n",
       "    </tr>\n",
       "    <tr>\n",
       "      <th>Maryland</th>\n",
       "      <td>0.145249</td>\n",
       "      <td>0.851149</td>\n",
       "      <td>1.920956</td>\n",
       "      <td>1.487222</td>\n",
       "      <td>0.252496</td>\n",
       "      <td>0.704708</td>\n",
       "      <td>0.266251</td>\n",
       "    </tr>\n",
       "    <tr>\n",
       "      <th>Massachusetts</th>\n",
       "      <td>-1.134824</td>\n",
       "      <td>-0.463222</td>\n",
       "      <td>0.514609</td>\n",
       "      <td>0.204543</td>\n",
       "      <td>0.561296</td>\n",
       "      <td>-0.500948</td>\n",
       "      <td>3.983135</td>\n",
       "    </tr>\n",
       "    <tr>\n",
       "      <th>Michigan</th>\n",
       "      <td>0.484860</td>\n",
       "      <td>1.236071</td>\n",
       "      <td>1.575658</td>\n",
       "      <td>0.637813</td>\n",
       "      <td>0.539105</td>\n",
       "      <td>0.678685</td>\n",
       "      <td>0.877375</td>\n",
       "    </tr>\n",
       "    <tr>\n",
       "      <th>Minnesota</th>\n",
       "      <td>-1.239320</td>\n",
       "      <td>-0.585270</td>\n",
       "      <td>-0.436677</td>\n",
       "      <td>-1.264542</td>\n",
       "      <td>-0.367205</td>\n",
       "      <td>-0.155839</td>\n",
       "      <td>-0.179817</td>\n",
       "    </tr>\n",
       "    <tr>\n",
       "      <th>Mississippi</th>\n",
       "      <td>1.791058</td>\n",
       "      <td>-0.575882</td>\n",
       "      <td>-0.667638</td>\n",
       "      <td>-0.223688</td>\n",
       "      <td>-0.878990</td>\n",
       "      <td>-1.991876</td>\n",
       "      <td>-1.217682</td>\n",
       "    </tr>\n",
       "    <tr>\n",
       "      <th>Missouri</th>\n",
       "      <td>0.563232</td>\n",
       "      <td>0.240905</td>\n",
       "      <td>0.742140</td>\n",
       "      <td>0.223688</td>\n",
       "      <td>0.061657</td>\n",
       "      <td>-0.343840</td>\n",
       "      <td>0.004565</td>\n",
       "    </tr>\n",
       "    <tr>\n",
       "      <th>Montana</th>\n",
       "      <td>-0.533973</td>\n",
       "      <td>-0.848144</td>\n",
       "      <td>-0.970631</td>\n",
       "      <td>-0.549144</td>\n",
       "      <td>-1.137569</td>\n",
       "      <td>0.141818</td>\n",
       "      <td>-0.356886</td>\n",
       "    </tr>\n",
       "    <tr>\n",
       "      <th>Nebraska</th>\n",
       "      <td>-0.925833</td>\n",
       "      <td>-0.716707</td>\n",
       "      <td>-0.679071</td>\n",
       "      <td>-0.993496</td>\n",
       "      <td>-1.242449</td>\n",
       "      <td>-0.494269</td>\n",
       "      <td>-0.670805</td>\n",
       "    </tr>\n",
       "    <tr>\n",
       "      <th>Nevada</th>\n",
       "      <td>2.182917</td>\n",
       "      <td>2.193684</td>\n",
       "      <td>2.275401</td>\n",
       "      <td>1.447925</td>\n",
       "      <td>2.712382</td>\n",
       "      <td>2.144843</td>\n",
       "      <td>0.948934</td>\n",
       "    </tr>\n",
       "    <tr>\n",
       "      <th>New-Hampshire</th>\n",
       "      <td>-1.108700</td>\n",
       "      <td>-1.411446</td>\n",
       "      <td>-1.153571</td>\n",
       "      <td>-1.363287</td>\n",
       "      <td>-0.584440</td>\n",
       "      <td>-0.455583</td>\n",
       "      <td>-0.439413</td>\n",
       "    </tr>\n",
       "    <tr>\n",
       "      <th>New-Jersey</th>\n",
       "      <td>-0.481726</td>\n",
       "      <td>-0.444445</td>\n",
       "      <td>0.643810</td>\n",
       "      <td>-0.263992</td>\n",
       "      <td>0.336120</td>\n",
       "      <td>0.143627</td>\n",
       "      <td>0.699783</td>\n",
       "    </tr>\n",
       "    <tr>\n",
       "      <th>New-Mexico</th>\n",
       "      <td>0.354241</td>\n",
       "      <td>1.254848</td>\n",
       "      <td>-0.165697</td>\n",
       "      <td>1.331043</td>\n",
       "      <td>0.296177</td>\n",
       "      <td>0.469393</td>\n",
       "      <td>-0.616482</td>\n",
       "    </tr>\n",
       "    <tr>\n",
       "      <th>New-York</th>\n",
       "      <td>0.850596</td>\n",
       "      <td>0.344177</td>\n",
       "      <td>3.984742</td>\n",
       "      <td>1.086196</td>\n",
       "      <td>1.018656</td>\n",
       "      <td>0.154063</td>\n",
       "      <td>1.923597</td>\n",
       "    </tr>\n",
       "    <tr>\n",
       "      <th>North-Carolina</th>\n",
       "      <td>0.824472</td>\n",
       "      <td>-0.819979</td>\n",
       "      <td>-0.717946</td>\n",
       "      <td>1.078135</td>\n",
       "      <td>-0.321890</td>\n",
       "      <td>-0.881543</td>\n",
       "      <td>-0.968531</td>\n",
       "    </tr>\n",
       "    <tr>\n",
       "      <th>North-Dakota</th>\n",
       "      <td>-1.709551</td>\n",
       "      <td>-1.571048</td>\n",
       "      <td>-1.266764</td>\n",
       "      <td>-1.687735</td>\n",
       "      <td>-1.975673</td>\n",
       "      <td>-1.152620</td>\n",
       "      <td>-1.216115</td>\n",
       "    </tr>\n",
       "    <tr>\n",
       "      <th>Ohio</th>\n",
       "      <td>0.093001</td>\n",
       "      <td>0.147022</td>\n",
       "      <td>0.759290</td>\n",
       "      <td>-0.304296</td>\n",
       "      <td>-0.177301</td>\n",
       "      <td>0.035502</td>\n",
       "      <td>0.119477</td>\n",
       "    </tr>\n",
       "    <tr>\n",
       "      <th>Oklahoma</th>\n",
       "      <td>0.301993</td>\n",
       "      <td>0.325400</td>\n",
       "      <td>-0.575025</td>\n",
       "      <td>-0.063479</td>\n",
       "      <td>-0.008652</td>\n",
       "      <td>-0.616727</td>\n",
       "      <td>-0.264956</td>\n",
       "    </tr>\n",
       "    <tr>\n",
       "      <th>Oregon</th>\n",
       "      <td>-0.664593</td>\n",
       "      <td>1.329955</td>\n",
       "      <td>0.000091</td>\n",
       "      <td>0.761748</td>\n",
       "      <td>0.804692</td>\n",
       "      <td>1.161699</td>\n",
       "      <td>0.059410</td>\n",
       "    </tr>\n",
       "    <tr>\n",
       "      <th>Pennsylvania</th>\n",
       "      <td>-0.481726</td>\n",
       "      <td>-0.632212</td>\n",
       "      <td>0.070981</td>\n",
       "      <td>-0.839333</td>\n",
       "      <td>-0.967986</td>\n",
       "      <td>-1.457235</td>\n",
       "      <td>-0.231527</td>\n",
       "    </tr>\n",
       "    <tr>\n",
       "      <th>Rhode-Island</th>\n",
       "      <td>-1.004204</td>\n",
       "      <td>-1.430222</td>\n",
       "      <td>-0.429816</td>\n",
       "      <td>-0.103783</td>\n",
       "      <td>0.461555</td>\n",
       "      <td>0.240480</td>\n",
       "      <td>2.161778</td>\n",
       "    </tr>\n",
       "    <tr>\n",
       "      <th>South-Carolina</th>\n",
       "      <td>1.164083</td>\n",
       "      <td>0.682158</td>\n",
       "      <td>-0.208002</td>\n",
       "      <td>2.760832</td>\n",
       "      <td>0.751434</td>\n",
       "      <td>-0.457671</td>\n",
       "      <td>-0.691698</td>\n",
       "    </tr>\n",
       "    <tr>\n",
       "      <th>South-Dakota</th>\n",
       "      <td>-1.422187</td>\n",
       "      <td>-1.148572</td>\n",
       "      <td>-1.214169</td>\n",
       "      <td>-0.560227</td>\n",
       "      <td>-1.685093</td>\n",
       "      <td>-1.345492</td>\n",
       "      <td>-1.201489</td>\n",
       "    </tr>\n",
       "    <tr>\n",
       "      <th>Tennessee</th>\n",
       "      <td>0.693852</td>\n",
       "      <td>0.372342</td>\n",
       "      <td>0.248203</td>\n",
       "      <td>-0.074563</td>\n",
       "      <td>-0.075224</td>\n",
       "      <td>-1.245160</td>\n",
       "      <td>-0.331814</td>\n",
       "    </tr>\n",
       "    <tr>\n",
       "      <th>Texas</th>\n",
       "      <td>1.529818</td>\n",
       "      <td>0.757265</td>\n",
       "      <td>0.323666</td>\n",
       "      <td>-0.031236</td>\n",
       "      <td>0.726908</td>\n",
       "      <td>0.441701</td>\n",
       "      <td>0.104852</td>\n",
       "    </tr>\n",
       "    <tr>\n",
       "      <th>Utah</th>\n",
       "      <td>-1.030328</td>\n",
       "      <td>-0.510163</td>\n",
       "      <td>-0.632193</td>\n",
       "      <td>-0.644866</td>\n",
       "      <td>-0.281012</td>\n",
       "      <td>0.463827</td>\n",
       "      <td>-0.224737</td>\n",
       "    </tr>\n",
       "    <tr>\n",
       "      <th>Vermont</th>\n",
       "      <td>-1.578931</td>\n",
       "      <td>-0.923251</td>\n",
       "      <td>-1.066674</td>\n",
       "      <td>-1.109371</td>\n",
       "      <td>0.131499</td>\n",
       "      <td>-0.654439</td>\n",
       "      <td>-0.586710</td>\n",
       "    </tr>\n",
       "    <tr>\n",
       "      <th>Virginia</th>\n",
       "      <td>0.406489</td>\n",
       "      <td>-0.228513</td>\n",
       "      <td>-0.365787</td>\n",
       "      <td>-0.459467</td>\n",
       "      <td>-0.714079</td>\n",
       "      <td>-0.208858</td>\n",
       "      <td>-0.787806</td>\n",
       "    </tr>\n",
       "    <tr>\n",
       "      <th>Washington</th>\n",
       "      <td>-0.821337</td>\n",
       "      <td>1.301790</td>\n",
       "      <td>-0.204572</td>\n",
       "      <td>0.136026</td>\n",
       "      <td>0.732747</td>\n",
       "      <td>0.995824</td>\n",
       "      <td>-0.089976</td>\n",
       "    </tr>\n",
       "    <tr>\n",
       "      <th>West-Virginia</th>\n",
       "      <td>-0.377230</td>\n",
       "      <td>-1.176737</td>\n",
       "      <td>-0.936330</td>\n",
       "      <td>-1.213154</td>\n",
       "      <td>-1.622259</td>\n",
       "      <td>-1.850214</td>\n",
       "      <td>-1.118962</td>\n",
       "    </tr>\n",
       "    <tr>\n",
       "      <th>Wisconsin</th>\n",
       "      <td>-1.213196</td>\n",
       "      <td>-1.204902</td>\n",
       "      <td>-0.821993</td>\n",
       "      <td>-1.487222</td>\n",
       "      <td>-1.039463</td>\n",
       "      <td>-0.079442</td>\n",
       "      <td>-0.819146</td>\n",
       "    </tr>\n",
       "    <tr>\n",
       "      <th>Wyoming</th>\n",
       "      <td>-0.533973</td>\n",
       "      <td>-0.359950</td>\n",
       "      <td>-0.964914</td>\n",
       "      <td>-0.376843</td>\n",
       "      <td>-1.121919</td>\n",
       "      <td>0.140426</td>\n",
       "      <td>-0.498959</td>\n",
       "    </tr>\n",
       "  </tbody>\n",
       "</table>\n",
       "</div>"
      ],
      "text/plain": [
       "                   Meutre      Rapt       Vol   Attaque      Viol    Larcin  \\\n",
       "Etat                                                                          \n",
       "Alabama          1.764934 -0.050134 -0.312049  0.675094 -0.365337 -1.098488   \n",
       "Alaska           0.876720  2.428393 -0.312049  0.732527  0.092958  0.972028   \n",
       "Arizona          0.537108  0.794818  0.161307  1.017679  2.462446  2.499415   \n",
       "Arkansas         0.354241  0.175187 -0.467548 -0.079601 -0.745847 -1.126041   \n",
       "California       1.059587  2.221849  1.862644  1.478153  1.979625  1.152932   \n",
       "Colorado        -0.298858  1.527110  0.532903  0.822204  1.502644  1.714291   \n",
       "Connecticut     -0.847461 -0.838756  0.061834 -0.801044  0.126360 -0.070397   \n",
       "Delaware        -0.377230 -0.078299  0.376261 -0.172300  0.912608  1.401467   \n",
       "Florida          0.719976  1.301790  0.729563  2.396079  1.326755  1.627040   \n",
       "Georgia          1.111835  0.503779  0.187604  0.455436  0.138273 -0.697299   \n",
       "Hawaii          -0.063742 -0.021969  0.044683 -1.483191  1.447285  1.738226   \n",
       "Idaho           -0.507849 -0.594659 -0.966058 -0.390950 -0.563183 -0.099759   \n",
       "Illinois         0.641604 -0.369338  0.997112 -0.023175 -0.483297  0.218771   \n",
       "Indiana         -0.011495  0.071915 -0.010199 -0.582394 -0.480494 -0.240168   \n",
       "Iowa            -1.343816 -1.420834 -0.947764 -1.224237 -1.119817  0.019220   \n",
       "Kansas          -0.220486 -0.350561 -0.267458 -0.310342 -0.050230  0.094643   \n",
       "Kentucky         0.693852 -0.622824 -0.491558 -0.886690 -0.980366 -1.404355   \n",
       "Louisiana        2.104545  0.485003  0.215045  1.251443 -0.295261 -0.280245   \n",
       "Maine           -1.317692 -1.148572 -0.976348 -0.416140 -0.090640 -0.446121   \n",
       "Maryland         0.145249  0.851149  1.920956  1.487222  0.252496  0.704708   \n",
       "Massachusetts   -1.134824 -0.463222  0.514609  0.204543  0.561296 -0.500948   \n",
       "Michigan         0.484860  1.236071  1.575658  0.637813  0.539105  0.678685   \n",
       "Minnesota       -1.239320 -0.585270 -0.436677 -1.264542 -0.367205 -0.155839   \n",
       "Mississippi      1.791058 -0.575882 -0.667638 -0.223688 -0.878990 -1.991876   \n",
       "Missouri         0.563232  0.240905  0.742140  0.223688  0.061657 -0.343840   \n",
       "Montana         -0.533973 -0.848144 -0.970631 -0.549144 -1.137569  0.141818   \n",
       "Nebraska        -0.925833 -0.716707 -0.679071 -0.993496 -1.242449 -0.494269   \n",
       "Nevada           2.182917  2.193684  2.275401  1.447925  2.712382  2.144843   \n",
       "New-Hampshire   -1.108700 -1.411446 -1.153571 -1.363287 -0.584440 -0.455583   \n",
       "New-Jersey      -0.481726 -0.444445  0.643810 -0.263992  0.336120  0.143627   \n",
       "New-Mexico       0.354241  1.254848 -0.165697  1.331043  0.296177  0.469393   \n",
       "New-York         0.850596  0.344177  3.984742  1.086196  1.018656  0.154063   \n",
       "North-Carolina   0.824472 -0.819979 -0.717946  1.078135 -0.321890 -0.881543   \n",
       "North-Dakota    -1.709551 -1.571048 -1.266764 -1.687735 -1.975673 -1.152620   \n",
       "Ohio             0.093001  0.147022  0.759290 -0.304296 -0.177301  0.035502   \n",
       "Oklahoma         0.301993  0.325400 -0.575025 -0.063479 -0.008652 -0.616727   \n",
       "Oregon          -0.664593  1.329955  0.000091  0.761748  0.804692  1.161699   \n",
       "Pennsylvania    -0.481726 -0.632212  0.070981 -0.839333 -0.967986 -1.457235   \n",
       "Rhode-Island    -1.004204 -1.430222 -0.429816 -0.103783  0.461555  0.240480   \n",
       "South-Carolina   1.164083  0.682158 -0.208002  2.760832  0.751434 -0.457671   \n",
       "South-Dakota    -1.422187 -1.148572 -1.214169 -0.560227 -1.685093 -1.345492   \n",
       "Tennessee        0.693852  0.372342  0.248203 -0.074563 -0.075224 -1.245160   \n",
       "Texas            1.529818  0.757265  0.323666 -0.031236  0.726908  0.441701   \n",
       "Utah            -1.030328 -0.510163 -0.632193 -0.644866 -0.281012  0.463827   \n",
       "Vermont         -1.578931 -0.923251 -1.066674 -1.109371  0.131499 -0.654439   \n",
       "Virginia         0.406489 -0.228513 -0.365787 -0.459467 -0.714079 -0.208858   \n",
       "Washington      -0.821337  1.301790 -0.204572  0.136026  0.732747  0.995824   \n",
       "West-Virginia   -0.377230 -1.176737 -0.936330 -1.213154 -1.622259 -1.850214   \n",
       "Wisconsin       -1.213196 -1.204902 -0.821993 -1.487222 -1.039463 -0.079442   \n",
       "Wyoming         -0.533973 -0.359950 -0.964914 -0.376843 -1.121919  0.140426   \n",
       "\n",
       "                 Auto_Theft  \n",
       "Etat                         \n",
       "Alabama           -0.505749  \n",
       "Alaska             1.962772  \n",
       "Arizona            0.323707  \n",
       "Arkansas          -1.013974  \n",
       "California         1.493721  \n",
       "Colorado           0.520103  \n",
       "Connecticut        1.126525  \n",
       "Delaware           0.467347  \n",
       "Florida           -0.136463  \n",
       "Georgia           -0.415909  \n",
       "Hawaii             0.584349  \n",
       "Idaho             -0.730872  \n",
       "Illinois           0.789101  \n",
       "Indiana           -0.000658  \n",
       "Iowa              -0.823324  \n",
       "Kansas            -0.695876  \n",
       "Kentucky          -0.690131  \n",
       "Louisiana         -0.208022  \n",
       "Maine             -0.682296  \n",
       "Maryland           0.266251  \n",
       "Massachusetts      3.983135  \n",
       "Michigan           0.877375  \n",
       "Minnesota         -0.179817  \n",
       "Mississippi       -1.217682  \n",
       "Missouri           0.004565  \n",
       "Montana           -0.356886  \n",
       "Nebraska          -0.670805  \n",
       "Nevada             0.948934  \n",
       "New-Hampshire     -0.439413  \n",
       "New-Jersey         0.699783  \n",
       "New-Mexico        -0.616482  \n",
       "New-York           1.923597  \n",
       "North-Carolina    -0.968531  \n",
       "North-Dakota      -1.216115  \n",
       "Ohio               0.119477  \n",
       "Oklahoma          -0.264956  \n",
       "Oregon             0.059410  \n",
       "Pennsylvania      -0.231527  \n",
       "Rhode-Island       2.161778  \n",
       "South-Carolina    -0.691698  \n",
       "South-Dakota      -1.201489  \n",
       "Tennessee         -0.331814  \n",
       "Texas              0.104852  \n",
       "Utah              -0.224737  \n",
       "Vermont           -0.586710  \n",
       "Virginia          -0.787806  \n",
       "Washington        -0.089976  \n",
       "West-Virginia     -1.118962  \n",
       "Wisconsin         -0.819146  \n",
       "Wyoming           -0.498959  "
      ]
     },
     "execution_count": 10,
     "metadata": {},
     "output_type": "execute_result"
    }
   ],
   "source": [
    "from sklearn.cluster import KMeans, AgglomerativeClustering\n",
    "\n",
    "from sklearn.pipeline import Pipeline\n",
    "scalerCrimes = StandardScaler(copy = False) # If modif in place, then ... see below. \n",
    "pcaCrimes = PCA(n_components = 3)\n",
    "kmeansCrimes = KMeans(n_clusters = 3, random_state = 11715490)\n",
    "crimesPipe = Pipeline([(\"scale\", scalerCrimes), (\"pca\", pcaCrimes), (\"kmeans\", kmeansCrimes)])\n",
    "# crimesPipe.fit(dfCrimes)\n",
    "crimesKmeansClusters = crimesPipe.fit_predict(dfCrimes) # ... here must be fit_predict. \n",
    "# Not first fit then predict because dataset hs already been modified!\n",
    "crimesKmeansClusters\n",
    "crimesPipe.named_steps[\"kmeans\"].cluster_centers_ \n",
    "crimesPipe.named_steps[\"pca\"].explained_variance_ratio_.cumsum()\n",
    "dfCrimes"
   ]
  },
  {
   "cell_type": "code",
   "execution_count": 11,
   "metadata": {},
   "outputs": [
    {
     "data": {
      "text/plain": [
       "Index(['Alabama', 'Alaska', 'Arizona', 'Arkansas', 'California', 'Colorado',\n",
       "       'Connecticut', 'Delaware', 'Florida', 'Georgia', 'Hawaii', 'Idaho',\n",
       "       'Illinois', 'Indiana', 'Iowa', 'Kansas', 'Kentucky', 'Louisiana',\n",
       "       'Maine', 'Maryland', 'Massachusetts', 'Michigan', 'Minnesota',\n",
       "       'Mississippi', 'Missouri', 'Montana', 'Nebraska', 'Nevada',\n",
       "       'New-Hampshire', 'New-Jersey', 'New-Mexico', 'New-York',\n",
       "       'North-Carolina ', 'North-Dakota', 'Ohio', 'Oklahoma', 'Oregon',\n",
       "       'Pennsylvania', 'Rhode-Island', 'South-Carolina ', 'South-Dakota',\n",
       "       'Tennessee', 'Texas', 'Utah', 'Vermont', 'Virginia', 'Washington',\n",
       "       'West-Virginia', 'Wisconsin', 'Wyoming'],\n",
       "      dtype='object', name='Etat ')"
      ]
     },
     "execution_count": 11,
     "metadata": {},
     "output_type": "execute_result"
    },
    {
     "data": {
      "text/plain": [
       "PCA(copy=True, iterated_power='auto', n_components=3, random_state=None,\n",
       "  svd_solver='auto', tol=0.0, whiten=False)"
      ]
     },
     "execution_count": 11,
     "metadata": {},
     "output_type": "execute_result"
    },
    {
     "data": {
      "text/plain": [
       "<matplotlib.collections.PathCollection at 0x2c348f6c550>"
      ]
     },
     "execution_count": 11,
     "metadata": {},
     "output_type": "execute_result"
    },
    {
     "data": {
      "text/plain": [
       "<matplotlib.text.Annotation at 0x2c348f6cfd0>"
      ]
     },
     "execution_count": 11,
     "metadata": {},
     "output_type": "execute_result"
    },
    {
     "data": {
      "text/plain": [
       "<matplotlib.text.Annotation at 0x2c348f75668>"
      ]
     },
     "execution_count": 11,
     "metadata": {},
     "output_type": "execute_result"
    },
    {
     "data": {
      "text/plain": [
       "<matplotlib.text.Annotation at 0x2c348f756d8>"
      ]
     },
     "execution_count": 11,
     "metadata": {},
     "output_type": "execute_result"
    },
    {
     "data": {
      "text/plain": [
       "<matplotlib.text.Annotation at 0x2c348f75198>"
      ]
     },
     "execution_count": 11,
     "metadata": {},
     "output_type": "execute_result"
    },
    {
     "data": {
      "text/plain": [
       "<matplotlib.text.Annotation at 0x2c348f75470>"
      ]
     },
     "execution_count": 11,
     "metadata": {},
     "output_type": "execute_result"
    },
    {
     "data": {
      "text/plain": [
       "<matplotlib.text.Annotation at 0x2c348f75320>"
      ]
     },
     "execution_count": 11,
     "metadata": {},
     "output_type": "execute_result"
    },
    {
     "data": {
      "text/plain": [
       "<matplotlib.text.Annotation at 0x2c348f757f0>"
      ]
     },
     "execution_count": 11,
     "metadata": {},
     "output_type": "execute_result"
    },
    {
     "data": {
      "text/plain": [
       "<matplotlib.text.Annotation at 0x2c348f75940>"
      ]
     },
     "execution_count": 11,
     "metadata": {},
     "output_type": "execute_result"
    },
    {
     "data": {
      "text/plain": [
       "<matplotlib.text.Annotation at 0x2c348f758d0>"
      ]
     },
     "execution_count": 11,
     "metadata": {},
     "output_type": "execute_result"
    },
    {
     "data": {
      "text/plain": [
       "<matplotlib.text.Annotation at 0x2c348f75a58>"
      ]
     },
     "execution_count": 11,
     "metadata": {},
     "output_type": "execute_result"
    },
    {
     "data": {
      "text/plain": [
       "<matplotlib.text.Annotation at 0x2c348f75d30>"
      ]
     },
     "execution_count": 11,
     "metadata": {},
     "output_type": "execute_result"
    },
    {
     "data": {
      "text/plain": [
       "<matplotlib.text.Annotation at 0x2c348f75ef0>"
      ]
     },
     "execution_count": 11,
     "metadata": {},
     "output_type": "execute_result"
    },
    {
     "data": {
      "text/plain": [
       "<matplotlib.text.Annotation at 0x2c348f75c50>"
      ]
     },
     "execution_count": 11,
     "metadata": {},
     "output_type": "execute_result"
    },
    {
     "data": {
      "text/plain": [
       "<matplotlib.text.Annotation at 0x2c348f7b240>"
      ]
     },
     "execution_count": 11,
     "metadata": {},
     "output_type": "execute_result"
    },
    {
     "data": {
      "text/plain": [
       "<matplotlib.text.Annotation at 0x2c348f7b390>"
      ]
     },
     "execution_count": 11,
     "metadata": {},
     "output_type": "execute_result"
    },
    {
     "data": {
      "text/plain": [
       "<matplotlib.text.Annotation at 0x2c348f7b4e0>"
      ]
     },
     "execution_count": 11,
     "metadata": {},
     "output_type": "execute_result"
    },
    {
     "data": {
      "text/plain": [
       "<matplotlib.text.Annotation at 0x2c348f7b978>"
      ]
     },
     "execution_count": 11,
     "metadata": {},
     "output_type": "execute_result"
    },
    {
     "data": {
      "text/plain": [
       "<matplotlib.text.Annotation at 0x2c348f7ba20>"
      ]
     },
     "execution_count": 11,
     "metadata": {},
     "output_type": "execute_result"
    },
    {
     "data": {
      "text/plain": [
       "<matplotlib.text.Annotation at 0x2c348f6c630>"
      ]
     },
     "execution_count": 11,
     "metadata": {},
     "output_type": "execute_result"
    },
    {
     "data": {
      "text/plain": [
       "<matplotlib.text.Annotation at 0x2c348f37898>"
      ]
     },
     "execution_count": 11,
     "metadata": {},
     "output_type": "execute_result"
    },
    {
     "data": {
      "text/plain": [
       "<matplotlib.text.Annotation at 0x2c348f37588>"
      ]
     },
     "execution_count": 11,
     "metadata": {},
     "output_type": "execute_result"
    },
    {
     "data": {
      "text/plain": [
       "<matplotlib.text.Annotation at 0x2c348f2fcc0>"
      ]
     },
     "execution_count": 11,
     "metadata": {},
     "output_type": "execute_result"
    },
    {
     "data": {
      "text/plain": [
       "<matplotlib.text.Annotation at 0x2c348f2f9e8>"
      ]
     },
     "execution_count": 11,
     "metadata": {},
     "output_type": "execute_result"
    },
    {
     "data": {
      "text/plain": [
       "<matplotlib.text.Annotation at 0x2c348f2f518>"
      ]
     },
     "execution_count": 11,
     "metadata": {},
     "output_type": "execute_result"
    },
    {
     "data": {
      "text/plain": [
       "<matplotlib.text.Annotation at 0x2c348f2f160>"
      ]
     },
     "execution_count": 11,
     "metadata": {},
     "output_type": "execute_result"
    },
    {
     "data": {
      "text/plain": [
       "<matplotlib.text.Annotation at 0x2c348f2c9b0>"
      ]
     },
     "execution_count": 11,
     "metadata": {},
     "output_type": "execute_result"
    },
    {
     "data": {
      "text/plain": [
       "<matplotlib.text.Annotation at 0x2c348f2c748>"
      ]
     },
     "execution_count": 11,
     "metadata": {},
     "output_type": "execute_result"
    },
    {
     "data": {
      "text/plain": [
       "<matplotlib.text.Annotation at 0x2c348f2c128>"
      ]
     },
     "execution_count": 11,
     "metadata": {},
     "output_type": "execute_result"
    },
    {
     "data": {
      "text/plain": [
       "<matplotlib.text.Annotation at 0x2c348f6c518>"
      ]
     },
     "execution_count": 11,
     "metadata": {},
     "output_type": "execute_result"
    },
    {
     "data": {
      "text/plain": [
       "<matplotlib.text.Annotation at 0x2c348f23860>"
      ]
     },
     "execution_count": 11,
     "metadata": {},
     "output_type": "execute_result"
    },
    {
     "data": {
      "text/plain": [
       "<matplotlib.text.Annotation at 0x2c348f23940>"
      ]
     },
     "execution_count": 11,
     "metadata": {},
     "output_type": "execute_result"
    },
    {
     "data": {
      "text/plain": [
       "<matplotlib.text.Annotation at 0x2c348f230b8>"
      ]
     },
     "execution_count": 11,
     "metadata": {},
     "output_type": "execute_result"
    },
    {
     "data": {
      "text/plain": [
       "<matplotlib.text.Annotation at 0x2c348f1e400>"
      ]
     },
     "execution_count": 11,
     "metadata": {},
     "output_type": "execute_result"
    },
    {
     "data": {
      "text/plain": [
       "<matplotlib.text.Annotation at 0x2c348f1e8d0>"
      ]
     },
     "execution_count": 11,
     "metadata": {},
     "output_type": "execute_result"
    },
    {
     "data": {
      "text/plain": [
       "<matplotlib.text.Annotation at 0x2c348f1e278>"
      ]
     },
     "execution_count": 11,
     "metadata": {},
     "output_type": "execute_result"
    },
    {
     "data": {
      "text/plain": [
       "<matplotlib.text.Annotation at 0x2c348f1e4e0>"
      ]
     },
     "execution_count": 11,
     "metadata": {},
     "output_type": "execute_result"
    },
    {
     "data": {
      "text/plain": [
       "<matplotlib.text.Annotation at 0x2c348f1e550>"
      ]
     },
     "execution_count": 11,
     "metadata": {},
     "output_type": "execute_result"
    },
    {
     "data": {
      "text/plain": [
       "<matplotlib.text.Annotation at 0x2c348f186d8>"
      ]
     },
     "execution_count": 11,
     "metadata": {},
     "output_type": "execute_result"
    },
    {
     "data": {
      "text/plain": [
       "<matplotlib.text.Annotation at 0x2c348f182e8>"
      ]
     },
     "execution_count": 11,
     "metadata": {},
     "output_type": "execute_result"
    },
    {
     "data": {
      "text/plain": [
       "<matplotlib.text.Annotation at 0x2c348f186a0>"
      ]
     },
     "execution_count": 11,
     "metadata": {},
     "output_type": "execute_result"
    },
    {
     "data": {
      "text/plain": [
       "<matplotlib.text.Annotation at 0x2c348f18be0>"
      ]
     },
     "execution_count": 11,
     "metadata": {},
     "output_type": "execute_result"
    },
    {
     "data": {
      "text/plain": [
       "<matplotlib.text.Annotation at 0x2c348f13b70>"
      ]
     },
     "execution_count": 11,
     "metadata": {},
     "output_type": "execute_result"
    },
    {
     "data": {
      "text/plain": [
       "<matplotlib.text.Annotation at 0x2c348f13860>"
      ]
     },
     "execution_count": 11,
     "metadata": {},
     "output_type": "execute_result"
    },
    {
     "data": {
      "text/plain": [
       "<matplotlib.text.Annotation at 0x2c348f13710>"
      ]
     },
     "execution_count": 11,
     "metadata": {},
     "output_type": "execute_result"
    },
    {
     "data": {
      "text/plain": [
       "<matplotlib.text.Annotation at 0x2c348f13400>"
      ]
     },
     "execution_count": 11,
     "metadata": {},
     "output_type": "execute_result"
    },
    {
     "data": {
      "text/plain": [
       "<matplotlib.text.Annotation at 0x2c348f0e1d0>"
      ]
     },
     "execution_count": 11,
     "metadata": {},
     "output_type": "execute_result"
    },
    {
     "data": {
      "text/plain": [
       "<matplotlib.text.Annotation at 0x2c348f0eb70>"
      ]
     },
     "execution_count": 11,
     "metadata": {},
     "output_type": "execute_result"
    },
    {
     "data": {
      "text/plain": [
       "<matplotlib.text.Annotation at 0x2c348f0e940>"
      ]
     },
     "execution_count": 11,
     "metadata": {},
     "output_type": "execute_result"
    },
    {
     "data": {
      "text/plain": [
       "<matplotlib.text.Annotation at 0x2c348f18860>"
      ]
     },
     "execution_count": 11,
     "metadata": {},
     "output_type": "execute_result"
    },
    {
     "data": {
      "text/plain": [
       "<matplotlib.text.Annotation at 0x2c348f0e5f8>"
      ]
     },
     "execution_count": 11,
     "metadata": {},
     "output_type": "execute_result"
    },
    {
     "data": {
      "image/png": "[encoded data removed]",
      "text/plain": [
       "<matplotlib.figure.Figure at 0x2c3489dc7b8>"
      ]
     },
     "metadata": {},
     "output_type": "display_data"
    }
   ],
   "source": [
    "import matplotlib.colors as mc\n",
    "dfCrimes.index\n",
    "crimesPCACoordinates = crimesPipe.named_steps[\"pca\"].transform(dfCrimes)\n",
    "# crimesPCAComposants = crimesPipe.named_steps[\"pca\"].components_\n",
    "colors3 = ['red','yellow','blue']\n",
    "# crimesPCAComposants\n",
    "crimesPipe.get_params()[\"pca\"]\n",
    "plt.scatter(crimesPCACoordinates[:, 0], crimesPCACoordinates[:, 1], c= crimesKmeansClusters, cmap=mc.ListedColormap(colors3))\n",
    "for label, x, y in zip(dfCrimes.index, crimesPCACoordinates[:, 0], crimesPCACoordinates[:, 1]):\n",
    "    plt.annotate(label, xy=(x, y), xytext=(-0.2, 0.2), textcoords='offset points')\n",
    "plt.show()"
   ]
  },
  {
   "cell_type": "code",
   "execution_count": 6,
   "metadata": {},
   "outputs": [
    {
     "data": {
      "text/plain": [
       "<matplotlib.collections.PathCollection at 0x2c348e6def0>"
      ]
     },
     "execution_count": 6,
     "metadata": {},
     "output_type": "execute_result"
    },
    {
     "data": {
      "text/plain": [
       "<matplotlib.text.Annotation at 0x2c348e76860>"
      ]
     },
     "execution_count": 6,
     "metadata": {},
     "output_type": "execute_result"
    },
    {
     "data": {
      "text/plain": [
       "<matplotlib.text.Annotation at 0x2c348e767b8>"
      ]
     },
     "execution_count": 6,
     "metadata": {},
     "output_type": "execute_result"
    },
    {
     "data": {
      "text/plain": [
       "<matplotlib.text.Annotation at 0x2c348e76b00>"
      ]
     },
     "execution_count": 6,
     "metadata": {},
     "output_type": "execute_result"
    },
    {
     "data": {
      "text/plain": [
       "<matplotlib.text.Annotation at 0x2c348e76be0>"
      ]
     },
     "execution_count": 6,
     "metadata": {},
     "output_type": "execute_result"
    },
    {
     "data": {
      "text/plain": [
       "<matplotlib.text.Annotation at 0x2c348e76c88>"
      ]
     },
     "execution_count": 6,
     "metadata": {},
     "output_type": "execute_result"
    },
    {
     "data": {
      "text/plain": [
       "<matplotlib.text.Annotation at 0x2c348e76e10>"
      ]
     },
     "execution_count": 6,
     "metadata": {},
     "output_type": "execute_result"
    },
    {
     "data": {
      "text/plain": [
       "<matplotlib.text.Annotation at 0x2c348e83208>"
      ]
     },
     "execution_count": 6,
     "metadata": {},
     "output_type": "execute_result"
    },
    {
     "data": {
      "text/plain": [
       "<matplotlib.text.Annotation at 0x2c348e76f60>"
      ]
     },
     "execution_count": 6,
     "metadata": {},
     "output_type": "execute_result"
    },
    {
     "data": {
      "text/plain": [
       "<matplotlib.text.Annotation at 0x2c348e83470>"
      ]
     },
     "execution_count": 6,
     "metadata": {},
     "output_type": "execute_result"
    },
    {
     "data": {
      "text/plain": [
       "<matplotlib.text.Annotation at 0x2c348e833c8>"
      ]
     },
     "execution_count": 6,
     "metadata": {},
     "output_type": "execute_result"
    },
    {
     "data": {
      "text/plain": [
       "<matplotlib.text.Annotation at 0x2c348e83668>"
      ]
     },
     "execution_count": 6,
     "metadata": {},
     "output_type": "execute_result"
    },
    {
     "data": {
      "text/plain": [
       "<matplotlib.text.Annotation at 0x2c348e83518>"
      ]
     },
     "execution_count": 6,
     "metadata": {},
     "output_type": "execute_result"
    },
    {
     "data": {
      "text/plain": [
       "<matplotlib.text.Annotation at 0x2c348e83780>"
      ]
     },
     "execution_count": 6,
     "metadata": {},
     "output_type": "execute_result"
    },
    {
     "data": {
      "text/plain": [
       "<matplotlib.text.Annotation at 0x2c348e838d0>"
      ]
     },
     "execution_count": 6,
     "metadata": {},
     "output_type": "execute_result"
    },
    {
     "data": {
      "text/plain": [
       "<matplotlib.text.Annotation at 0x2c348e83a20>"
      ]
     },
     "execution_count": 6,
     "metadata": {},
     "output_type": "execute_result"
    },
    {
     "data": {
      "text/plain": [
       "<matplotlib.text.Annotation at 0x2c348e83e10>"
      ]
     },
     "execution_count": 6,
     "metadata": {},
     "output_type": "execute_result"
    },
    {
     "data": {
      "text/plain": [
       "<matplotlib.text.Annotation at 0x2c348e83f60>"
      ]
     },
     "execution_count": 6,
     "metadata": {},
     "output_type": "execute_result"
    },
    {
     "data": {
      "text/plain": [
       "<matplotlib.text.Annotation at 0x2c348e83dd8>"
      ]
     },
     "execution_count": 6,
     "metadata": {},
     "output_type": "execute_result"
    },
    {
     "data": {
      "text/plain": [
       "<matplotlib.text.Annotation at 0x2c348e8f208>"
      ]
     },
     "execution_count": 6,
     "metadata": {},
     "output_type": "execute_result"
    },
    {
     "data": {
      "text/plain": [
       "<matplotlib.text.Annotation at 0x2c348e8f358>"
      ]
     },
     "execution_count": 6,
     "metadata": {},
     "output_type": "execute_result"
    },
    {
     "data": {
      "text/plain": [
       "<matplotlib.text.Annotation at 0x2c348e8f4a8>"
      ]
     },
     "execution_count": 6,
     "metadata": {},
     "output_type": "execute_result"
    },
    {
     "data": {
      "text/plain": [
       "<matplotlib.text.Annotation at 0x2c348e8f5f8>"
      ]
     },
     "execution_count": 6,
     "metadata": {},
     "output_type": "execute_result"
    },
    {
     "data": {
      "text/plain": [
       "<matplotlib.text.Annotation at 0x2c348e8f748>"
      ]
     },
     "execution_count": 6,
     "metadata": {},
     "output_type": "execute_result"
    },
    {
     "data": {
      "text/plain": [
       "<matplotlib.text.Annotation at 0x2c348e8f898>"
      ]
     },
     "execution_count": 6,
     "metadata": {},
     "output_type": "execute_result"
    },
    {
     "data": {
      "text/plain": [
       "<matplotlib.text.Annotation at 0x2c348e8f828>"
      ]
     },
     "execution_count": 6,
     "metadata": {},
     "output_type": "execute_result"
    },
    {
     "data": {
      "text/plain": [
       "<matplotlib.text.Annotation at 0x2c348e8fa58>"
      ]
     },
     "execution_count": 6,
     "metadata": {},
     "output_type": "execute_result"
    },
    {
     "data": {
      "text/plain": [
       "<matplotlib.text.Annotation at 0x2c348e8fb38>"
      ]
     },
     "execution_count": 6,
     "metadata": {},
     "output_type": "execute_result"
    },
    {
     "data": {
      "text/plain": [
       "<matplotlib.text.Annotation at 0x2c348e83fd0>"
      ]
     },
     "execution_count": 6,
     "metadata": {},
     "output_type": "execute_result"
    },
    {
     "data": {
      "text/plain": [
       "<matplotlib.text.Annotation at 0x2c348e8fc50>"
      ]
     },
     "execution_count": 6,
     "metadata": {},
     "output_type": "execute_result"
    },
    {
     "data": {
      "text/plain": [
       "<matplotlib.text.Annotation at 0x2c348e8fc88>"
      ]
     },
     "execution_count": 6,
     "metadata": {},
     "output_type": "execute_result"
    },
    {
     "data": {
      "text/plain": [
       "<matplotlib.text.Annotation at 0x2c348e8feb8>"
      ]
     },
     "execution_count": 6,
     "metadata": {},
     "output_type": "execute_result"
    },
    {
     "data": {
      "text/plain": [
       "<matplotlib.text.Annotation at 0x2c348e8fdd8>"
      ]
     },
     "execution_count": 6,
     "metadata": {},
     "output_type": "execute_result"
    },
    {
     "data": {
      "image/png": "[encoded data removed]",
      "text/plain": [
       "<matplotlib.figure.Figure at 0x2c348867eb8>"
      ]
     },
     "metadata": {},
     "output_type": "display_data"
    }
   ],
   "source": [
    "from sklearn.cluster import KMeans, AgglomerativeClustering\n",
    "kmeansVilles = KMeans(n_clusters = 4, random_state = 11715490)\n",
    "villesKmeansClusters = kmeansVilles.fit_predict(dfVillesTransformees) # Use only 3 dimensions to avoid high dimension curse\n",
    "\n",
    "import matplotlib.colors as mc\n",
    "colors4 = ['red','yellow','blue', 'pink']\n",
    "plt.scatter(dfVillesTransformees[:, 0], dfVillesTransformees[:, 1], c= villesKmeansClusters, cmap=mc.ListedColormap(colors4))\n",
    "for label, x, y in zip(dfVilles.index, dfVillesTransformees[:, 0], dfVillesTransformees[:, 1]):\n",
    "    plt.annotate(label, xy=(x, y), xytext=(-0.2, 0.2), textcoords='offset points')\n",
    "plt.show()"
   ]
  },
  {
   "cell_type": "code",
   "execution_count": 12,
   "metadata": {},
   "outputs": [
    {
     "data": {
      "text/plain": [
       "<matplotlib.collections.PathCollection at 0x2c349014e80>"
      ]
     },
     "execution_count": 12,
     "metadata": {},
     "output_type": "execute_result"
    },
    {
     "data": {
      "text/plain": [
       "<matplotlib.text.Annotation at 0x2c349020748>"
      ]
     },
     "execution_count": 12,
     "metadata": {},
     "output_type": "execute_result"
    },
    {
     "data": {
      "text/plain": [
       "<matplotlib.text.Annotation at 0x2c349020be0>"
      ]
     },
     "execution_count": 12,
     "metadata": {},
     "output_type": "execute_result"
    },
    {
     "data": {
      "text/plain": [
       "<matplotlib.text.Annotation at 0x2c349020860>"
      ]
     },
     "execution_count": 12,
     "metadata": {},
     "output_type": "execute_result"
    },
    {
     "data": {
      "text/plain": [
       "<matplotlib.text.Annotation at 0x2c349020b00>"
      ]
     },
     "execution_count": 12,
     "metadata": {},
     "output_type": "execute_result"
    },
    {
     "data": {
      "text/plain": [
       "<matplotlib.text.Annotation at 0x2c349020d30>"
      ]
     },
     "execution_count": 12,
     "metadata": {},
     "output_type": "execute_result"
    },
    {
     "data": {
      "text/plain": [
       "<matplotlib.text.Annotation at 0x2c349027128>"
      ]
     },
     "execution_count": 12,
     "metadata": {},
     "output_type": "execute_result"
    },
    {
     "data": {
      "text/plain": [
       "<matplotlib.text.Annotation at 0x2c349027278>"
      ]
     },
     "execution_count": 12,
     "metadata": {},
     "output_type": "execute_result"
    },
    {
     "data": {
      "text/plain": [
       "<matplotlib.text.Annotation at 0x2c349020fd0>"
      ]
     },
     "execution_count": 12,
     "metadata": {},
     "output_type": "execute_result"
    },
    {
     "data": {
      "text/plain": [
       "<matplotlib.text.Annotation at 0x2c3490274e0>"
      ]
     },
     "execution_count": 12,
     "metadata": {},
     "output_type": "execute_result"
    },
    {
     "data": {
      "text/plain": [
       "<matplotlib.text.Annotation at 0x2c349027588>"
      ]
     },
     "execution_count": 12,
     "metadata": {},
     "output_type": "execute_result"
    },
    {
     "data": {
      "text/plain": [
       "<matplotlib.text.Annotation at 0x2c3490276d8>"
      ]
     },
     "execution_count": 12,
     "metadata": {},
     "output_type": "execute_result"
    },
    {
     "data": {
      "text/plain": [
       "<matplotlib.text.Annotation at 0x2c349027940>"
      ]
     },
     "execution_count": 12,
     "metadata": {},
     "output_type": "execute_result"
    },
    {
     "data": {
      "text/plain": [
       "<matplotlib.text.Annotation at 0x2c3490277f0>"
      ]
     },
     "execution_count": 12,
     "metadata": {},
     "output_type": "execute_result"
    },
    {
     "data": {
      "text/plain": [
       "<matplotlib.text.Annotation at 0x2c349027a90>"
      ]
     },
     "execution_count": 12,
     "metadata": {},
     "output_type": "execute_result"
    },
    {
     "data": {
      "text/plain": [
       "<matplotlib.text.Annotation at 0x2c349027c18>"
      ]
     },
     "execution_count": 12,
     "metadata": {},
     "output_type": "execute_result"
    },
    {
     "data": {
      "text/plain": [
       "<matplotlib.text.Annotation at 0x2c349027860>"
      ]
     },
     "execution_count": 12,
     "metadata": {},
     "output_type": "execute_result"
    },
    {
     "data": {
      "text/plain": [
       "<matplotlib.text.Annotation at 0x2c349027d30>"
      ]
     },
     "execution_count": 12,
     "metadata": {},
     "output_type": "execute_result"
    },
    {
     "data": {
      "text/plain": [
       "<matplotlib.text.Annotation at 0x2c34902b128>"
      ]
     },
     "execution_count": 12,
     "metadata": {},
     "output_type": "execute_result"
    },
    {
     "data": {
      "text/plain": [
       "<matplotlib.text.Annotation at 0x2c349014f60>"
      ]
     },
     "execution_count": 12,
     "metadata": {},
     "output_type": "execute_result"
    },
    {
     "data": {
      "text/plain": [
       "<matplotlib.text.Annotation at 0x2c34902b2e8>"
      ]
     },
     "execution_count": 12,
     "metadata": {},
     "output_type": "execute_result"
    },
    {
     "data": {
      "text/plain": [
       "<matplotlib.text.Annotation at 0x2c34902b438>"
      ]
     },
     "execution_count": 12,
     "metadata": {},
     "output_type": "execute_result"
    },
    {
     "data": {
      "text/plain": [
       "<matplotlib.text.Annotation at 0x2c349027fd0>"
      ]
     },
     "execution_count": 12,
     "metadata": {},
     "output_type": "execute_result"
    },
    {
     "data": {
      "text/plain": [
       "<matplotlib.text.Annotation at 0x2c34902b668>"
      ]
     },
     "execution_count": 12,
     "metadata": {},
     "output_type": "execute_result"
    },
    {
     "data": {
      "text/plain": [
       "<matplotlib.text.Annotation at 0x2c34902b748>"
      ]
     },
     "execution_count": 12,
     "metadata": {},
     "output_type": "execute_result"
    },
    {
     "data": {
      "text/plain": [
       "<matplotlib.text.Annotation at 0x2c34902b5c0>"
      ]
     },
     "execution_count": 12,
     "metadata": {},
     "output_type": "execute_result"
    },
    {
     "data": {
      "text/plain": [
       "<matplotlib.text.Annotation at 0x2c34902b860>"
      ]
     },
     "execution_count": 12,
     "metadata": {},
     "output_type": "execute_result"
    },
    {
     "data": {
      "text/plain": [
       "<matplotlib.text.Annotation at 0x2c34902b9b0>"
      ]
     },
     "execution_count": 12,
     "metadata": {},
     "output_type": "execute_result"
    },
    {
     "data": {
      "text/plain": [
       "<matplotlib.text.Annotation at 0x2c34902bb00>"
      ]
     },
     "execution_count": 12,
     "metadata": {},
     "output_type": "execute_result"
    },
    {
     "data": {
      "text/plain": [
       "<matplotlib.text.Annotation at 0x2c34902bc50>"
      ]
     },
     "execution_count": 12,
     "metadata": {},
     "output_type": "execute_result"
    },
    {
     "data": {
      "text/plain": [
       "<matplotlib.text.Annotation at 0x2c34902bf98>"
      ]
     },
     "execution_count": 12,
     "metadata": {},
     "output_type": "execute_result"
    },
    {
     "data": {
      "text/plain": [
       "<matplotlib.text.Annotation at 0x2c349036198>"
      ]
     },
     "execution_count": 12,
     "metadata": {},
     "output_type": "execute_result"
    },
    {
     "data": {
      "text/plain": [
       "<matplotlib.text.Annotation at 0x2c3490360f0>"
      ]
     },
     "execution_count": 12,
     "metadata": {},
     "output_type": "execute_result"
    },
    {
     "data": {
      "image/png": "[encoded data removed]",
      "text/plain": [
       "<matplotlib.figure.Figure at 0x2c348e82da0>"
      ]
     },
     "metadata": {},
     "output_type": "display_data"
    }
   ],
   "source": [
    "hierarchiqueVilles = AgglomerativeClustering(n_clusters=4, linkage=\"ward\")\n",
    "villesHierarchiqueClusters = hierarchiqueVilles.fit_predict(dfVillesTransformees[:,:2])\n",
    "\n",
    "import matplotlib.colors as mc\n",
    "colors4 = ['red','yellow','blue', 'pink']\n",
    "plt.scatter(dfVillesTransformees[:, 0], dfVillesTransformees[:, 1], c= villesHierarchiqueClusters, cmap=mc.ListedColormap(colors4))\n",
    "for label, x, y in zip(dfVilles.index, dfVillesTransformees[:, 0], dfVillesTransformees[:, 1]):\n",
    "    plt.annotate(label, xy=(x, y), xytext=(-0.2, 0.2), textcoords='offset points')\n",
    "plt.show()"
   ]
  },
  {
   "cell_type": "code",
   "execution_count": 20,
   "metadata": {},
   "outputs": [
    {
     "name": "stdout",
     "output_type": "stream",
     "text": [
      "2.93657013328\n",
      "0.634134503049\n",
      "\n",
      "1.61374852256\n",
      "0.401235255875\n",
      "\n",
      "0.70014707527\n",
      "0.406467762829\n",
      "\n",
      "0.572861858826\n",
      "0.346585383797\n",
      "\n"
     ]
    }
   ],
   "source": [
    "exec(open(\"dunn.txt\").read())\n",
    "\n",
    "from sklearn import metrics\n",
    "\n",
    "# dfVillesTransformees = np.delete(dfVillesTransformees, 2, axis = 1) # Run only once!\n",
    "for i in np.arange(2, 6):\n",
    "    clustering = KMeans(n_clusters=i).fit_predict(dfVillesTransformees)\n",
    "    print(dunn(clustering, metrics.euclidean_distances(dfVillesTransformees, dfVillesTransformees)))\n",
    "    print(metrics.silhouette_score(dfVillesTransformees, clustering,metric='euclidean'))\n",
    "    print()"
   ]
  },
  {
   "cell_type": "code",
   "execution_count": 21,
   "metadata": {},
   "outputs": [
    {
     "data": {
      "text/plain": [
       "array([[ 5.18728058,  0.75978942],\n",
       "       [-0.88778562,  0.76987811],\n",
       "       [ 0.40607702,  0.4849017 ],\n",
       "       [-2.9237469 , -0.91316957],\n",
       "       [ 3.11703576,  2.02750003],\n",
       "       [ 2.9532451 , -0.19259391],\n",
       "       [-2.14172992,  3.89449982],\n",
       "       [-1.38361092, -0.41795585],\n",
       "       [-2.03412946, -1.45031058],\n",
       "       [-3.91247257, -1.28331244],\n",
       "       [-1.16715701, -1.39195746],\n",
       "       [-3.69889469,  0.88688691],\n",
       "       [-2.08112507,  0.39904176],\n",
       "       [-0.50628562, -1.59743834],\n",
       "       [ 4.57339727, -1.28318051],\n",
       "       [ 3.92564991, -0.84778424],\n",
       "       [-3.92493824, -0.86045934],\n",
       "       [-0.16544865,  0.99403038],\n",
       "       [ 5.53740665,  0.1013869 ],\n",
       "       [ 4.46514109, -1.36871979],\n",
       "       [-2.18952316,  0.16625348],\n",
       "       [-0.95574528, -0.0842431 ],\n",
       "       [ 6.30598001, -0.5088897 ],\n",
       "       [-3.00578655, -0.13982978],\n",
       "       [-1.24355136,  1.60485753],\n",
       "       [-2.61732539,  1.13617654],\n",
       "       [-3.42491183,  0.50323189],\n",
       "       [-3.43057934, -1.6532925 ],\n",
       "       [ 6.23320885,  0.8341028 ],\n",
       "       [ 1.71739119, -0.31651604],\n",
       "       [-0.91552206,  0.1198502 ],\n",
       "       [-1.81154378, -0.37273431]])"
      ]
     },
     "execution_count": 21,
     "metadata": {},
     "output_type": "execute_result"
    }
   ],
   "source": [
    "dfVillesTransformees"
   ]
  }
 ],
 "metadata": {
  "kernelspec": {
   "display_name": "Python 3",
   "language": "python",
   "name": "python3"
  },
  "language_info": {
   "codemirror_mode": {
    "name": "ipython",
    "version": 3
   },
   "file_extension": ".py",
   "mimetype": "text/x-python",
   "name": "python",
   "nbconvert_exporter": "python",
   "pygments_lexer": "ipython3",
   "version": "3.6.1"
  }
 },
 "nbformat": 4,
 "nbformat_minor": 2
}
